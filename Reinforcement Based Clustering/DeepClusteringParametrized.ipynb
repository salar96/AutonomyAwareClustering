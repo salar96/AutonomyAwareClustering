{
 "cells": [
  {
   "cell_type": "code",
   "execution_count": 1,
   "id": "e25e670e",
   "metadata": {},
   "outputs": [],
   "source": [
    "import numpy as np\n",
    "import torch\n",
    "from ADEN import ADEN\n",
    "device = torch.device(\"cuda\" if torch.cuda.is_available() else \"cpu\")"
   ]
  },
  {
   "cell_type": "code",
   "execution_count": 2,
   "id": "0158bfc0",
   "metadata": {},
   "outputs": [],
   "source": [
    "def d_t(x, y):\n",
    "    return 0.5 * torch.sum((x - y)** 2) "
   ]
  },
  {
   "cell_type": "code",
   "execution_count": 3,
   "id": "73a4af40",
   "metadata": {},
   "outputs": [],
   "source": [
    "N = 100 # number of samples\n",
    "M = 30 # number of clusters\n",
    "Batch_size = 16 # number of batches\n",
    "num_samples_in_batch = 8 # number of samples in each batch\n",
    "input_dim = 2 # dimensionality of the input space\n",
    "# X = torch.rand(N, input_dim).to(device)  # example input tensor (N, input_dim)\n",
    "X = torch.tensor(np.loadtxt(\"D31.txt\")[:,:2],device=device,dtype=torch.float32) / 31\n",
    "N = X.shape[0]\n",
    "Y = torch.rand(M, input_dim).to(device)  # example cluster tensor (M, input_dim)\n",
    "model = ADEN(input_dim=input_dim, d_model=64, n_layers=3, d_ff=128).to(device)\n"
   ]
  },
  {
   "cell_type": "code",
   "execution_count": 4,
   "id": "71b466f3",
   "metadata": {},
   "outputs": [
    {
     "name": "stdout",
     "output_type": "stream",
     "text": [
      "Epoch 0, MSE Loss: 0.4566698670387268\n",
      "Epoch 100, MSE Loss: 0.005612246226519346\n",
      "Epoch 200, MSE Loss: 0.004062331281602383\n",
      "Epoch 300, MSE Loss: 0.004208059515804052\n",
      "Epoch 400, MSE Loss: 0.003704786067828536\n",
      "Epoch 500, MSE Loss: 0.003578492905944586\n",
      "Epoch 600, MSE Loss: 0.0029446370899677277\n",
      "Epoch 700, MSE Loss: 0.0026626463513821363\n",
      "Epoch 800, MSE Loss: 0.004263055510818958\n",
      "Epoch 900, MSE Loss: 0.0034491270780563354\n"
     ]
    }
   ],
   "source": [
    "optimizer = torch.optim.AdamW(model.parameters(), lr=1e-4, weight_decay=1e-5)\n",
    "Y_batches = Y.unsqueeze(0).expand(Batch_size, -1, -1).to(device)  # (Batch_size, M, input_dim)\n",
    "for epoch in range(1000):  # example training loop\n",
    "\n",
    "    X_batches = torch.zeros(Batch_size, num_samples_in_batch, input_dim).to(device)  # (Batch_size, num_samples_in_batch, input_dim)\n",
    "    for i in range(Batch_size):\n",
    "        batch_indices = torch.randint(0, N, (num_samples_in_batch,)).to(device)\n",
    "        X_batches[i] = X[batch_indices]\n",
    "    \n",
    "\n",
    "    predicted_distances = model(X_batches, Y_batches) # predicted distances (Batch_size, num_samples_in_batch, M)\n",
    "    idx = torch.argmin(predicted_distances, dim=-1).long()  # indices of the closest clusters (Batch_size, num_samples_in_batch)\n",
    "    # create a mask of chosen indices to only include them in the training error\n",
    "    mask = torch.zeros_like(predicted_distances, dtype=torch.bool)\n",
    "    mask.scatter_(2, idx.unsqueeze(2), 1) # (Batch_size, num_samples_in_batch, M)\n",
    "    gamma = 100.0\n",
    "    transition_probs = torch.exp(-gamma *0.5*torch.cdist(Y,Y, p=2)**2)  # (M, M)\n",
    "    transition_probs = transition_probs / transition_probs.sum(dim=-1, keepdim=True)\n",
    "    D = torch.zeros(Batch_size, num_samples_in_batch, M).to(device)  # (Batch_size, num_samples_in_batch)\n",
    "    for i in range(Batch_size):\n",
    "        for j in range(num_samples_in_batch):\n",
    "            realized_cluster = torch.multinomial(transition_probs[idx[i][j]], 1).item()\n",
    "            D[i][j][idx[i][j]] = d_t(X_batches[i][j], Y[realized_cluster])\n",
    "    # take MSE error between D and predicted_distances only when mask is true\n",
    "    mse_loss = torch.mean((D[mask] - predicted_distances[mask]) ** 2)\n",
    "    if epoch % 100 == 0:\n",
    "        print(f\"Epoch {epoch}, MSE Loss: {mse_loss.item()}\")\n",
    "    optimizer.zero_grad()\n",
    "    mse_loss.backward()\n",
    "    optimizer.step()"
   ]
  },
  {
   "cell_type": "code",
   "execution_count": 5,
   "id": "b3c2aa8b",
   "metadata": {},
   "outputs": [
    {
     "data": {
      "text/plain": [
       "ADEN(\n",
       "  (data_projection): Linear(in_features=2, out_features=64, bias=True)\n",
       "  (cluster_projection): Linear(in_features=2, out_features=64, bias=True)\n",
       "  (blocks): ModuleList(\n",
       "    (0-2): 3 x AdaptiveDistanceBlock(\n",
       "      (attention): MultiHeadDistanceAttention(\n",
       "        (W_q): Linear(in_features=64, out_features=64, bias=False)\n",
       "        (W_k): Linear(in_features=64, out_features=64, bias=False)\n",
       "        (W_v): Linear(in_features=64, out_features=64, bias=False)\n",
       "        (W_o): Linear(in_features=64, out_features=64, bias=True)\n",
       "        (dropout): Dropout(p=0.1, inplace=False)\n",
       "      )\n",
       "      (norm1): LayerNorm((64,), eps=1e-05, elementwise_affine=True)\n",
       "      (norm2): LayerNorm((64,), eps=1e-05, elementwise_affine=True)\n",
       "      (ffn): Sequential(\n",
       "        (0): Linear(in_features=64, out_features=128, bias=True)\n",
       "        (1): GELU(approximate='none')\n",
       "        (2): Dropout(p=0.1, inplace=False)\n",
       "        (3): Linear(in_features=128, out_features=64, bias=True)\n",
       "        (4): Dropout(p=0.1, inplace=False)\n",
       "      )\n",
       "      (dropout): Dropout(p=0.1, inplace=False)\n",
       "    )\n",
       "  )\n",
       "  (output_norm): LayerNorm((64,), eps=1e-05, elementwise_affine=True)\n",
       "  (distance_head): Sequential(\n",
       "    (0): Linear(in_features=128, out_features=64, bias=True)\n",
       "    (1): GELU(approximate='none')\n",
       "    (2): Dropout(p=0.1, inplace=False)\n",
       "    (3): Linear(in_features=64, out_features=256, bias=True)\n",
       "    (4): GELU(approximate='none')\n",
       "    (5): Dropout(p=0.1, inplace=False)\n",
       "    (6): Linear(in_features=256, out_features=1, bias=True)\n",
       "  )\n",
       ")"
      ]
     },
     "execution_count": 5,
     "metadata": {},
     "output_type": "execute_result"
    }
   ],
   "source": [
    "y_to_be_optimized = Y.clone().detach().requires_grad_(True)  # make Y a parameter to be optimized\n",
    "# fix model weights\n",
    "for param in model.parameters():\n",
    "    param.requires_grad = False\n",
    "model.eval()"
   ]
  },
  {
   "cell_type": "code",
   "execution_count": 8,
   "id": "f40e6e05",
   "metadata": {},
   "outputs": [
    {
     "name": "stdout",
     "output_type": "stream",
     "text": [
      "Epoch 0, F: 0.011777474544942379\n",
      "Epoch 100, F: 0.011454140767455101\n",
      "Epoch 200, F: 0.011152315884828568\n",
      "Epoch 300, F: 0.010869801044464111\n",
      "Epoch 400, F: 0.010604523122310638\n",
      "Epoch 500, F: 0.010354837402701378\n",
      "Epoch 600, F: 0.01011938601732254\n",
      "Epoch 700, F: 0.009897100739181042\n",
      "Epoch 800, F: 0.00968713779002428\n",
      "Epoch 900, F: 0.009488793089985847\n",
      "Epoch 1000, F: 0.009301429614424706\n",
      "Epoch 1100, F: 0.009124455973505974\n",
      "Epoch 1200, F: 0.00895735528320074\n",
      "Epoch 1300, F: 0.008799614384770393\n",
      "Epoch 1400, F: 0.00865078717470169\n",
      "Epoch 1500, F: 0.00851043313741684\n",
      "Epoch 1600, F: 0.008378144353628159\n",
      "Epoch 1700, F: 0.008253534324467182\n",
      "Epoch 1800, F: 0.008136255666613579\n",
      "Epoch 1900, F: 0.008025942370295525\n",
      "Epoch 2000, F: 0.007922259159386158\n",
      "Epoch 2100, F: 0.00782488938421011\n",
      "Epoch 2200, F: 0.007733522914350033\n",
      "Epoch 2300, F: 0.007647850085049868\n",
      "Epoch 2400, F: 0.007567576598376036\n",
      "Epoch 2500, F: 0.007492430042475462\n",
      "Epoch 2600, F: 0.007422128692269325\n",
      "Epoch 2700, F: 0.00735641410574317\n",
      "Epoch 2800, F: 0.007295024581253529\n",
      "Epoch 2900, F: 0.007237713318318129\n",
      "Epoch 3000, F: 0.007184243761003017\n",
      "Epoch 3100, F: 0.007134391460567713\n",
      "Epoch 3200, F: 0.007087922189384699\n",
      "Epoch 3300, F: 0.007044646423310041\n",
      "Epoch 3400, F: 0.007004360668361187\n",
      "Epoch 3500, F: 0.006966872606426477\n",
      "Epoch 3600, F: 0.006932014133781195\n",
      "Epoch 3700, F: 0.006899613421410322\n",
      "Epoch 3800, F: 0.006869516335427761\n",
      "Epoch 3900, F: 0.006841579452157021\n",
      "Epoch 4000, F: 0.006815653294324875\n",
      "Epoch 4100, F: 0.006791621912270784\n",
      "Epoch 4200, F: 0.006769369821995497\n",
      "Epoch 4300, F: 0.006748771294951439\n",
      "Epoch 4400, F: 0.006729738786816597\n",
      "Epoch 4500, F: 0.006712162867188454\n",
      "Epoch 4600, F: 0.006695955991744995\n",
      "Epoch 4700, F: 0.006681026425212622\n",
      "Epoch 4800, F: 0.006667301058769226\n",
      "Epoch 4900, F: 0.006654693745076656\n",
      "Epoch 5000, F: 0.006643130909651518\n",
      "Epoch 5100, F: 0.006632545497268438\n",
      "Epoch 5200, F: 0.0066228690557181835\n",
      "Epoch 5300, F: 0.006614035926759243\n",
      "Epoch 5400, F: 0.006605994887650013\n",
      "Epoch 5500, F: 0.0065986658446490765\n",
      "Epoch 5600, F: 0.0065920306369662285\n",
      "Epoch 5700, F: 0.0065860082395374775\n",
      "Epoch 5800, F: 0.00658056465908885\n",
      "Epoch 5900, F: 0.006575645878911018\n",
      "Epoch 6000, F: 0.006571216508746147\n",
      "Epoch 6100, F: 0.006567249074578285\n",
      "Epoch 6200, F: 0.006563686765730381\n",
      "Epoch 6300, F: 0.006560500245541334\n",
      "Epoch 6400, F: 0.006557664833962917\n",
      "Epoch 6500, F: 0.0065551381558179855\n",
      "Epoch 6600, F: 0.006552902050316334\n",
      "Epoch 6700, F: 0.006550925783813\n",
      "Epoch 6800, F: 0.006549185607582331\n",
      "Epoch 6900, F: 0.006547666620463133\n",
      "Epoch 7000, F: 0.006546333432197571\n",
      "Epoch 7100, F: 0.0065451753325760365\n",
      "Epoch 7200, F: 0.006544176954776049\n",
      "Epoch 7300, F: 0.006543316412717104\n",
      "Epoch 7400, F: 0.006542583927512169\n",
      "Epoch 7500, F: 0.006541946437209845\n"
     ]
    }
   ],
   "source": [
    "optimizer_y = torch.optim.AdamW([y_to_be_optimized], lr=1e-4, weight_decay=1e-5)\n",
    "\n",
    "beta = 50\n",
    "F_old = torch.tensor(float('inf'), device=device)  # Initialize F_old to a large value\n",
    "epoch = 0\n",
    "while True:\n",
    "    # Update y_to_be_optimized using the gradients\n",
    "    d_s = model(X.unsqueeze(0), y_to_be_optimized.unsqueeze(0))[0] # (N, M)\n",
    "    F = -1/N/beta*torch.sum(torch.log(torch.sum(torch.exp(-beta*d_s), dim=-1)))\n",
    "    optimizer_y.zero_grad()\n",
    "    F.backward()\n",
    "    optimizer_y.step()\n",
    "    if epoch % 100 == 0:\n",
    "        print(f\"Epoch {epoch}, F: {F.item()}\")\n",
    "    if torch.norm(F_old - F)/torch.norm(F_old) < 1e-8:\n",
    "        break\n",
    "    F_old = F.clone()  # Update F_old for the next iteration\n",
    "    epoch += 1"
   ]
  },
  {
   "cell_type": "code",
   "execution_count": 9,
   "id": "fd9d1771",
   "metadata": {},
   "outputs": [
    {
     "data": {
      "image/png": "[encoded data removed]",
      "text/plain": [
       "<Figure size 640x480 with 1 Axes>"
      ]
     },
     "metadata": {},
     "output_type": "display_data"
    }
   ],
   "source": [
    "# plot locations of X and final y\n",
    "import matplotlib.pyplot as plt\n",
    "# converting results to numpy\n",
    "X_np = X.detach().cpu().numpy()\n",
    "y_np = y_to_be_optimized.detach().cpu().numpy()\n",
    "plt.scatter(X_np[:, 0], X_np[:, 1], label='Data Points')\n",
    "plt.scatter(y_np[:, 0], y_np[:, 1], label='Cluster Centers', marker='X', color='red')\n",
    "plt.legend()\n",
    "plt.show()"
   ]
  },
  {
   "cell_type": "code",
   "execution_count": 6,
   "id": "9507fbf5",
   "metadata": {},
   "outputs": [
    {
     "data": {
      "text/plain": [
       "tensor([[0.1169, 0.1159, 0.1016,  ..., 0.1188, 0.1150, 0.0970],\n",
       "        [0.1100, 0.1095, 0.0967,  ..., 0.1189, 0.1108, 0.0914],\n",
       "        [0.1142, 0.1133, 0.0997,  ..., 0.1178, 0.1129, 0.0950],\n",
       "        ...,\n",
       "        [0.0899, 0.0875, 0.0838,  ..., 0.0844, 0.0804, 0.0902],\n",
       "        [0.0884, 0.0861, 0.0819,  ..., 0.0828, 0.0793, 0.0875],\n",
       "        [0.0828, 0.0809, 0.0777,  ..., 0.0820, 0.0757, 0.0826]],\n",
       "       device='cuda:0', grad_fn=<SelectBackward0>)"
      ]
     },
     "execution_count": 6,
     "metadata": {},
     "output_type": "execute_result"
    }
   ],
   "source": [
    "model(X.unsqueeze(0), y_to_be_optimized.unsqueeze(0))[0]"
   ]
  },
  {
   "cell_type": "code",
   "execution_count": 7,
   "id": "97345694",
   "metadata": {},
   "outputs": [
    {
     "data": {
      "text/plain": [
       "tensor([[0.3276, 0.3156, 0.1857,  ..., 0.3166, 0.2944, 0.1514],\n",
       "        [0.3045, 0.2968, 0.1752,  ..., 0.3582, 0.2960, 0.1310],\n",
       "        [0.3172, 0.3061, 0.1791,  ..., 0.3215, 0.2892, 0.1434],\n",
       "        ...,\n",
       "        [0.1487, 0.1184, 0.0783,  ..., 0.0650, 0.0230, 0.1626],\n",
       "        [0.1491, 0.1195, 0.0718,  ..., 0.0612, 0.0264, 0.1492],\n",
       "        [0.1162, 0.0899, 0.0537,  ..., 0.0866, 0.0131, 0.1267]],\n",
       "       device='cuda:0', grad_fn=<MulBackward0>)"
      ]
     },
     "execution_count": 7,
     "metadata": {},
     "output_type": "execute_result"
    }
   ],
   "source": [
    "0.5*torch.cdist(X, y_to_be_optimized, p=2)**2"
   ]
  }
 ],
 "metadata": {
  "kernelspec": {
   "display_name": "Python 3",
   "language": "python",
   "name": "python3"
  },
  "language_info": {
   "codemirror_mode": {
    "name": "ipython",
    "version": 3
   },
   "file_extension": ".py",
   "mimetype": "text/x-python",
   "name": "python",
   "nbconvert_exporter": "python",
   "pygments_lexer": "ipython3",
   "version": "3.10.0"
  }
 },
 "nbformat": 4,
 "nbformat_minor": 5
}
