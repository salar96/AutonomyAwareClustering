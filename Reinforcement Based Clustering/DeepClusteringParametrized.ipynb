{
 "cells": [
  {
   "cell_type": "code",
   "execution_count": 9,
   "id": "e25e670e",
   "metadata": {},
   "outputs": [],
   "source": [
    "import numpy as np\n",
    "import torch\n",
    "device = torch.device(\"cuda\" if torch.cuda.is_available() else \"cpu\")"
   ]
  },
  {
   "cell_type": "code",
   "execution_count": 2,
   "id": "0158bfc0",
   "metadata": {},
   "outputs": [],
   "source": [
    "def d_t(x, y):\n",
    "    return 0.5 * (np.linalg.norm(x - y)) ** 2"
   ]
  },
  {
   "cell_type": "code",
   "execution_count": 3,
   "id": "077e6f08",
   "metadata": {},
   "outputs": [],
   "source": [
    "# create a function that given an index idx and a torch tensor of shape (batch_size, M, input_dim) creates a probability tensor of shape (batch_size, M) of choosing between M clusters, where probability of picking cluster at index i ~ exp(-||y_idx-y_i||^2)\n",
    "def create_probability_tensor(idx, cluster_tensor, gamma = 0.1):\n",
    "    # gamma is the randomness factor\n",
    "    # shape of idx is (batch_size,)\n",
    "    batch_size = cluster_tensor.size(0)\n",
    "    M = cluster_tensor.size(1)\n",
    "\n",
    "    # Get the cluster center at the given index\n",
    "    y_idx = cluster_tensor[torch.arange(batch_size), idx]  # (batch_size, input_dim)\n",
    "\n",
    "    # Compute squared distances\n",
    "    squared_diffs = (cluster_tensor - y_idx.unsqueeze(1)) ** 2  # (batch_size, M, input_dim)\n",
    "    squared_distances = squared_diffs.sum(dim=-1)  # (batch_size, M)\n",
    "\n",
    "    # Compute probabilities\n",
    "    probabilities = torch.exp(-gamma * squared_distances)\n",
    "\n",
    "    # Normalize to get a valid probability distribution\n",
    "    probabilities /= probabilities.sum(dim=-1, keepdim=True)\n",
    "\n",
    "    return probabilities\n",
    "\n",
    "def return_realized_distances(idx, cluster_tensor, gamma=0.1):\n",
    "    probabilities = create_probability_tensor(idx, cluster_tensor, gamma)\n",
    "    # sample clusters according to probabilities\n",
    "    sampled_indices = torch.multinomial(probabilities, num_samples=1)\n",
    "    sampled_clusters = cluster_tensor[torch.arange(cluster_tensor.size(0)), sampled_indices.squeeze()] # shape (batch_size, input_dim)\n",
    "    # calculate distance between the idx clusters and sampled clusters\n",
    "    realized_distances = torch.sum((cluster_tensor[torch.arange(cluster_tensor.size(0)), idx] - sampled_clusters) ** 2, dim=-1)\n",
    "    return realized_distances"
   ]
  },
  {
   "cell_type": "code",
   "execution_count": 4,
   "id": "394b1468",
   "metadata": {},
   "outputs": [
    {
     "name": "stdout",
     "output_type": "stream",
     "text": [
      "tensor([29.6419,  0.0000, 36.8542,  0.0000,  0.0000, 34.2116])\n"
     ]
    }
   ],
   "source": [
    "# example usage\n",
    "idx = torch.tensor([0, 1, 2, 3, 4, 5])  # example indices\n",
    "cluster_tensor = torch.randn(6, 6, 10)  # example cluster tensor (batch_size=3, M=5, input_dim=10)\n",
    "realized_distances = return_realized_distances(idx, cluster_tensor, gamma = 1e-6)\n",
    "print(realized_distances)"
   ]
  },
  {
   "cell_type": "code",
   "execution_count": 10,
   "id": "73a4af40",
   "metadata": {},
   "outputs": [],
   "source": [
    "N = 100 # number of samples\n",
    "M = 10 # number of clusters\n",
    "Batch_size = 16 # number of batches\n",
    "num_samples_in_batch = 8 # number of samples in each batch\n",
    "input_dim = 2 # dimensionality of the input space\n",
    "X = torch.randn(N, input_dim).to(device)  # example input tensor (N, input_dim)\n",
    "Y = torch.randn(M, input_dim).to(device)  # example cluster tensor (M, input_dim)\n",
    "X_batches = torch.zeros(Batch_size, num_samples_in_batch, input_dim).to(device)  # (Batch_size, num_samples_in_batch, input_dim)\n",
    "for i in range(Batch_size):\n",
    "    batch_indices = torch.randint(0, N, (num_samples_in_batch,)).to(device)\n",
    "    X_batches[i] = X[batch_indices]\n",
    "Y_batches = Y.unsqueeze(0).expand(Batch_size, -1, -1).to(device)  # (Batch_size, M, input_dim)"
   ]
  },
  {
   "cell_type": "code",
   "execution_count": 17,
   "id": "71b466f3",
   "metadata": {},
   "outputs": [
    {
     "data": {
      "text/plain": [
       "tensor([8, 2, 5, 8, 0, 2, 5, 0], device='cuda:0')"
      ]
     },
     "execution_count": 17,
     "metadata": {},
     "output_type": "execute_result"
    }
   ],
   "source": [
    "from ADEN import ADEN\n",
    "model = ADEN(input_dim=input_dim).to(device)\n",
    "predicted_distances = model(X_batches, Y_batches) # predicted distances (Batch_size, num_samples_in_batch, M)\n",
    "idx = torch.argmin(predicted_distances, dim=-1)  # indices of the closest clusters (Batch_size, num_samples_in_batch)\n",
    "idx[0]"
   ]
  }
 ],
 "metadata": {
  "kernelspec": {
   "display_name": "Python 3",
   "language": "python",
   "name": "python3"
  },
  "language_info": {
   "codemirror_mode": {
    "name": "ipython",
    "version": 3
   },
   "file_extension": ".py",
   "mimetype": "text/x-python",
   "name": "python",
   "nbconvert_exporter": "python",
   "pygments_lexer": "ipython3",
   "version": "3.10.0"
  }
 },
 "nbformat": 4,
 "nbformat_minor": 5
}
