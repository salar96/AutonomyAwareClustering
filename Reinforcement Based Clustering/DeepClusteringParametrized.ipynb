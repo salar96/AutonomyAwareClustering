{
 "cells": [
  {
   "cell_type": "code",
   "execution_count": 1,
   "id": "e25e670e",
   "metadata": {},
   "outputs": [],
   "source": [
    "import numpy as np\n",
    "import torch\n",
    "from ADEN import ADEN\n",
    "device = torch.device(\"cuda\" if torch.cuda.is_available() else \"cpu\")"
   ]
  },
  {
   "cell_type": "code",
   "execution_count": 2,
   "id": "0158bfc0",
   "metadata": {},
   "outputs": [],
   "source": [
    "def d_t(x, y):\n",
    "    return 0.5 * torch.norm(x - y) ** 2"
   ]
  },
  {
   "cell_type": "code",
   "execution_count": 3,
   "id": "73a4af40",
   "metadata": {},
   "outputs": [],
   "source": [
    "N = 100 # number of samples\n",
    "M = 10 # number of clusters\n",
    "Batch_size = 16 # number of batches\n",
    "num_samples_in_batch = 8 # number of samples in each batch\n",
    "input_dim = 2 # dimensionality of the input space\n",
    "X = torch.randn(N, input_dim).to(device)  # example input tensor (N, input_dim)\n",
    "Y = torch.randn(M, input_dim).to(device)  # example cluster tensor (M, input_dim)\n",
    "model = ADEN(input_dim=input_dim).to(device)\n"
   ]
  },
  {
   "cell_type": "code",
   "execution_count": 4,
   "id": "71b466f3",
   "metadata": {},
   "outputs": [
    {
     "name": "stdout",
     "output_type": "stream",
     "text": [
      "Epoch 0, MSE Loss: 0.6702319383621216\n",
      "Epoch 10, MSE Loss: 0.08894237130880356\n",
      "Epoch 20, MSE Loss: 0.036242712289094925\n",
      "Epoch 30, MSE Loss: 0.028159260749816895\n",
      "Epoch 40, MSE Loss: 0.019356153905391693\n",
      "Epoch 50, MSE Loss: 0.017400173470377922\n",
      "Epoch 60, MSE Loss: 0.016980944201350212\n",
      "Epoch 70, MSE Loss: 0.014911229722201824\n",
      "Epoch 80, MSE Loss: 0.011664076708257198\n",
      "Epoch 90, MSE Loss: 0.008228459395468235\n",
      "Epoch 100, MSE Loss: 0.013489059172570705\n",
      "Epoch 110, MSE Loss: 0.008950801566243172\n",
      "Epoch 120, MSE Loss: 0.010774632915854454\n",
      "Epoch 130, MSE Loss: 0.009594648145139217\n",
      "Epoch 140, MSE Loss: 0.009208332747220993\n",
      "Epoch 150, MSE Loss: 0.007350776810199022\n",
      "Epoch 160, MSE Loss: 0.010120636783540249\n",
      "Epoch 170, MSE Loss: 0.009460455738008022\n",
      "Epoch 180, MSE Loss: 0.010207828134298325\n",
      "Epoch 190, MSE Loss: 0.009393207728862762\n",
      "Epoch 200, MSE Loss: 0.008516978472471237\n",
      "Epoch 210, MSE Loss: 0.006531969644129276\n",
      "Epoch 220, MSE Loss: 0.007553262636065483\n",
      "Epoch 230, MSE Loss: 0.009346367791295052\n",
      "Epoch 240, MSE Loss: 0.007539643906056881\n",
      "Epoch 250, MSE Loss: 0.0077419038861989975\n",
      "Epoch 260, MSE Loss: 0.005803125444799662\n",
      "Epoch 270, MSE Loss: 0.0068588280119001865\n",
      "Epoch 280, MSE Loss: 0.00840322021394968\n",
      "Epoch 290, MSE Loss: 0.006449241191148758\n",
      "Epoch 300, MSE Loss: 0.007619181647896767\n",
      "Epoch 310, MSE Loss: 0.007445463910698891\n",
      "Epoch 320, MSE Loss: 0.007230783812701702\n",
      "Epoch 330, MSE Loss: 0.005841066595166922\n",
      "Epoch 340, MSE Loss: 0.006624158471822739\n",
      "Epoch 350, MSE Loss: 0.0065381755121052265\n",
      "Epoch 360, MSE Loss: 0.005709194578230381\n",
      "Epoch 370, MSE Loss: 0.005460913293063641\n",
      "Epoch 380, MSE Loss: 0.004297525621950626\n",
      "Epoch 390, MSE Loss: 0.004873432219028473\n",
      "Epoch 400, MSE Loss: 0.007269464898854494\n",
      "Epoch 410, MSE Loss: 0.0065517062321305275\n",
      "Epoch 420, MSE Loss: 0.007205349858850241\n",
      "Epoch 430, MSE Loss: 0.0059387837536633015\n",
      "Epoch 440, MSE Loss: 0.005093034356832504\n",
      "Epoch 450, MSE Loss: 0.009045719169080257\n",
      "Epoch 460, MSE Loss: 0.005751727148890495\n",
      "Epoch 470, MSE Loss: 0.005459862295538187\n",
      "Epoch 480, MSE Loss: 0.0055878618732094765\n",
      "Epoch 490, MSE Loss: 0.005320684518665075\n",
      "Epoch 500, MSE Loss: 0.007929372601211071\n",
      "Epoch 510, MSE Loss: 0.006249925121665001\n",
      "Epoch 520, MSE Loss: 0.0048017543740570545\n",
      "Epoch 530, MSE Loss: 0.00628310302272439\n",
      "Epoch 540, MSE Loss: 0.004428978078067303\n",
      "Epoch 550, MSE Loss: 0.005079528316855431\n",
      "Epoch 560, MSE Loss: 0.006286449730396271\n",
      "Epoch 570, MSE Loss: 0.004685727879405022\n",
      "Epoch 580, MSE Loss: 0.00432897824794054\n",
      "Epoch 590, MSE Loss: 0.003092649858444929\n",
      "Epoch 600, MSE Loss: 0.005792694166302681\n",
      "Epoch 610, MSE Loss: 0.006184672936797142\n",
      "Epoch 620, MSE Loss: 0.007083381060510874\n",
      "Epoch 630, MSE Loss: 0.004426559433341026\n",
      "Epoch 640, MSE Loss: 0.004572036676108837\n",
      "Epoch 650, MSE Loss: 0.006303330883383751\n",
      "Epoch 660, MSE Loss: 0.0053451936691999435\n",
      "Epoch 670, MSE Loss: 0.004145324230194092\n",
      "Epoch 680, MSE Loss: 0.00512451957911253\n",
      "Epoch 690, MSE Loss: 0.004948229528963566\n",
      "Epoch 700, MSE Loss: 0.003995925188064575\n",
      "Epoch 710, MSE Loss: 0.004777136258780956\n",
      "Epoch 720, MSE Loss: 0.005242643412202597\n",
      "Epoch 730, MSE Loss: 0.004484638571739197\n",
      "Epoch 740, MSE Loss: 0.004728752188384533\n",
      "Epoch 750, MSE Loss: 0.0033059760462492704\n",
      "Epoch 760, MSE Loss: 0.003980982583016157\n",
      "Epoch 770, MSE Loss: 0.004874133504927158\n",
      "Epoch 780, MSE Loss: 0.0043947091326117516\n",
      "Epoch 790, MSE Loss: 0.00576366763561964\n",
      "Epoch 800, MSE Loss: 0.005973766557872295\n",
      "Epoch 810, MSE Loss: 0.004978323355317116\n",
      "Epoch 820, MSE Loss: 0.004896967206150293\n",
      "Epoch 830, MSE Loss: 0.0033488876651972532\n",
      "Epoch 840, MSE Loss: 0.005565966479480267\n",
      "Epoch 850, MSE Loss: 0.0038300310261547565\n",
      "Epoch 860, MSE Loss: 0.005068196915090084\n",
      "Epoch 870, MSE Loss: 0.0029754191637039185\n",
      "Epoch 880, MSE Loss: 0.005573793314397335\n",
      "Epoch 890, MSE Loss: 0.004333031363785267\n",
      "Epoch 900, MSE Loss: 0.003937581554055214\n",
      "Epoch 910, MSE Loss: 0.0024922811426222324\n",
      "Epoch 920, MSE Loss: 0.003851267509162426\n",
      "Epoch 930, MSE Loss: 0.004275149200111628\n",
      "Epoch 940, MSE Loss: 0.003342194017022848\n",
      "Epoch 950, MSE Loss: 0.0032192517537623644\n",
      "Epoch 960, MSE Loss: 0.004029363859444857\n",
      "Epoch 970, MSE Loss: 0.004214962013065815\n",
      "Epoch 980, MSE Loss: 0.00505329854786396\n",
      "Epoch 990, MSE Loss: 0.004495527129620314\n"
     ]
    }
   ],
   "source": [
    "optimizer = torch.optim.AdamW(model.parameters(), lr=1e-4, weight_decay=1e-5)\n",
    "for epoch in range(1000):  # example training loop\n",
    "\n",
    "    X_batches = torch.zeros(Batch_size, num_samples_in_batch, input_dim).to(device)  # (Batch_size, num_samples_in_batch, input_dim)\n",
    "    for i in range(Batch_size):\n",
    "        batch_indices = torch.randint(0, N, (num_samples_in_batch,)).to(device)\n",
    "        X_batches[i] = X[batch_indices]\n",
    "    Y_batches = Y.unsqueeze(0).expand(Batch_size, -1, -1).to(device)  # (Batch_size, M, input_dim)\n",
    "\n",
    "    predicted_distances = model(X_batches, Y_batches) # predicted distances (Batch_size, num_samples_in_batch, M)\n",
    "    idx = torch.argmin(predicted_distances, dim=-1).long()  # indices of the closest clusters (Batch_size, num_samples_in_batch)\n",
    "    # create a mask of chosen indices to only include them in the training error\n",
    "    mask = torch.zeros_like(predicted_distances, dtype=torch.bool)\n",
    "    mask.scatter_(2, idx.unsqueeze(2), 1) # (Batch_size, num_samples_in_batch, M)\n",
    "    gamma = 100.0\n",
    "    transition_probs = torch.exp(-gamma *torch.cdist(Y,Y, p=2))  # (M, M)\n",
    "    transition_probs = transition_probs / transition_probs.sum(dim=-1, keepdim=True)\n",
    "    D = torch.zeros(Batch_size, num_samples_in_batch, M).to(device)  # (Batch_size, num_samples_in_batch)\n",
    "    for i in range(Batch_size):\n",
    "        for j in range(num_samples_in_batch):\n",
    "            realized_cluster = torch.multinomial(transition_probs[idx[i][j]], 1).item()\n",
    "            D[i][j][idx[i][j]] = d_t(X_batches[i][j], Y[realized_cluster])\n",
    "    # take MSE error between D and predicted_distances only when mask is true\n",
    "    mse_loss = torch.mean((D[mask] - predicted_distances[mask]) ** 2)\n",
    "    if epoch % 10 == 0:\n",
    "        print(f\"Epoch {epoch}, MSE Loss: {mse_loss.item()}\")\n",
    "    optimizer.zero_grad()\n",
    "    mse_loss.backward()\n",
    "    optimizer.step()"
   ]
  },
  {
   "cell_type": "code",
   "execution_count": 5,
   "id": "b3c2aa8b",
   "metadata": {},
   "outputs": [],
   "source": [
    "y_to_be_optimized = Y.clone().detach().requires_grad_(True)  # make Y a parameter to be optimized\n",
    "# fix model weights\n",
    "for param in model.parameters():\n",
    "    param.requires_grad = False\n"
   ]
  },
  {
   "cell_type": "code",
   "execution_count": 17,
   "id": "f40e6e05",
   "metadata": {},
   "outputs": [],
   "source": [
    "optimizer_y = torch.optim.AdamW([y_to_be_optimized], lr=1e-4, weight_decay=1e-5)\n",
    "\n",
    "beta = 10\n",
    "F_old = torch.tensor(float('inf'), device=device)  # Initialize F_old to a large value\n",
    "while True:\n",
    "    # Update y_to_be_optimized using the gradients\n",
    "    d_s = torch.cdist(X, y_to_be_optimized, p=2) # (N, M)\n",
    "    F = -1/beta*torch.sum(torch.log(torch.sum(torch.exp(-beta*d_s), dim=-1)))\n",
    "    optimizer_y.zero_grad()\n",
    "    F.backward()\n",
    "    optimizer_y.step()\n",
    "    if epoch % 1000 == 0:\n",
    "        print(f\"Epoch {epoch}, F: {F.item()}\")\n",
    "    if torch.norm(F_old - F)/torch.norm(F) < 1e-8:\n",
    "        break\n",
    "    F_old = F.clone()  # Update F_old for the next iteration"
   ]
  },
  {
   "cell_type": "code",
   "execution_count": 19,
   "id": "fd9d1771",
   "metadata": {},
   "outputs": [
    {
     "data": {
      "image/png": "[encoded data removed]",
      "text/plain": [
       "<Figure size 640x480 with 1 Axes>"
      ]
     },
     "metadata": {},
     "output_type": "display_data"
    }
   ],
   "source": [
    "# plot locations of X and final y\n",
    "import matplotlib.pyplot as plt\n",
    "# converting results to numpy\n",
    "X_np = X.detach().cpu().numpy()\n",
    "y_np = y_to_be_optimized.detach().cpu().numpy()\n",
    "plt.scatter(X_np[:, 0], X_np[:, 1], label='Data Points')\n",
    "plt.scatter(y_np[:, 0], y_np[:, 1], label='Cluster Centers', marker='X', color='red')\n",
    "plt.legend()\n",
    "plt.show()"
   ]
  }
 ],
 "metadata": {
  "kernelspec": {
   "display_name": "Python 3",
   "language": "python",
   "name": "python3"
  },
  "language_info": {
   "codemirror_mode": {
    "name": "ipython",
    "version": 3
   },
   "file_extension": ".py",
   "mimetype": "text/x-python",
   "name": "python",
   "nbconvert_exporter": "python",
   "pygments_lexer": "ipython3",
   "version": "3.10.0"
  }
 },
 "nbformat": 4,
 "nbformat_minor": 5
}
