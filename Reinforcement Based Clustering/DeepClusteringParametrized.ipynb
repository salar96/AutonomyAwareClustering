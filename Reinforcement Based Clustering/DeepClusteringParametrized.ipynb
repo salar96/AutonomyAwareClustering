{
 "cells": [
  {
   "cell_type": "code",
   "execution_count": 1,
   "id": "e25e670e",
   "metadata": {},
   "outputs": [],
   "source": [
    "import numpy as np\n",
    "import torch\n",
    "from ADEN import ADEN\n",
    "import torchsummary\n",
    "from TestCaseGenerator import data_RLClustering\n",
    "device = torch.device(\"cuda\" if torch.cuda.is_available() else \"cpu\")"
   ]
  },
  {
   "cell_type": "code",
   "execution_count": 2,
   "id": "0158bfc0",
   "metadata": {},
   "outputs": [],
   "source": [
    "def d_t(x, y):\n",
    "    \"\"\"\n",
    "    Squared Euclidean distance (scaled by 0.5) between batched x and y.\n",
    "    \n",
    "    Args:\n",
    "        x: Tensor (..., input_dim)\n",
    "        y: Tensor (..., input_dim)\n",
    "    Returns:\n",
    "        Tensor (...)  # one distance per pair\n",
    "    \"\"\"\n",
    "    return 0.5 * torch.sum((x - y) ** 2, dim=-1)"
   ]
  },
  {
   "cell_type": "code",
   "execution_count": 9,
   "id": "73a4af40",
   "metadata": {},
   "outputs": [
    {
     "name": "stdout",
     "output_type": "stream",
     "text": [
      "----------------------------------------------------------------\n",
      "        Layer (type)               Output Shape         Param #\n",
      "================================================================\n",
      "            Linear-1             [-1, 1800, 64]             192\n",
      "            Linear-2                [-1, 4, 64]             192\n",
      "            Linear-3             [-1, 1800, 64]           4,096\n",
      "            Linear-4                [-1, 4, 64]           4,096\n",
      "            Linear-5                [-1, 4, 64]           4,096\n",
      "           Dropout-6           [-1, 8, 1800, 4]               0\n",
      "            Linear-7             [-1, 1800, 64]           4,160\n",
      "MultiHeadDistanceAttention-8             [-1, 1800, 64]               0\n",
      "           Dropout-9             [-1, 1800, 64]               0\n",
      "        LayerNorm-10             [-1, 1800, 64]             128\n",
      "           Linear-11            [-1, 1800, 128]           8,320\n",
      "             GELU-12            [-1, 1800, 128]               0\n",
      "          Dropout-13            [-1, 1800, 128]               0\n",
      "           Linear-14             [-1, 1800, 64]           8,256\n",
      "          Dropout-15             [-1, 1800, 64]               0\n",
      "        LayerNorm-16             [-1, 1800, 64]             128\n",
      "AdaptiveDistanceBlock-17             [-1, 1800, 64]               0\n",
      "           Linear-18             [-1, 1800, 64]           4,096\n",
      "           Linear-19                [-1, 4, 64]           4,096\n",
      "           Linear-20                [-1, 4, 64]           4,096\n",
      "          Dropout-21           [-1, 8, 1800, 4]               0\n",
      "           Linear-22             [-1, 1800, 64]           4,160\n",
      "MultiHeadDistanceAttention-23             [-1, 1800, 64]               0\n",
      "          Dropout-24             [-1, 1800, 64]               0\n",
      "        LayerNorm-25             [-1, 1800, 64]             128\n",
      "           Linear-26            [-1, 1800, 128]           8,320\n",
      "             GELU-27            [-1, 1800, 128]               0\n",
      "          Dropout-28            [-1, 1800, 128]               0\n",
      "           Linear-29             [-1, 1800, 64]           8,256\n",
      "          Dropout-30             [-1, 1800, 64]               0\n",
      "        LayerNorm-31             [-1, 1800, 64]             128\n",
      "AdaptiveDistanceBlock-32             [-1, 1800, 64]               0\n",
      "           Linear-33             [-1, 1800, 64]           4,096\n",
      "           Linear-34                [-1, 4, 64]           4,096\n",
      "           Linear-35                [-1, 4, 64]           4,096\n",
      "          Dropout-36           [-1, 8, 1800, 4]               0\n",
      "           Linear-37             [-1, 1800, 64]           4,160\n",
      "MultiHeadDistanceAttention-38             [-1, 1800, 64]               0\n",
      "          Dropout-39             [-1, 1800, 64]               0\n",
      "        LayerNorm-40             [-1, 1800, 64]             128\n",
      "           Linear-41            [-1, 1800, 128]           8,320\n",
      "             GELU-42            [-1, 1800, 128]               0\n",
      "          Dropout-43            [-1, 1800, 128]               0\n",
      "           Linear-44             [-1, 1800, 64]           8,256\n",
      "          Dropout-45             [-1, 1800, 64]               0\n",
      "        LayerNorm-46             [-1, 1800, 64]             128\n",
      "AdaptiveDistanceBlock-47             [-1, 1800, 64]               0\n",
      "        LayerNorm-48             [-1, 1800, 64]             128\n",
      "           Linear-49          [-1, 1800, 4, 64]           8,256\n",
      "             GELU-50          [-1, 1800, 4, 64]               0\n",
      "          Dropout-51          [-1, 1800, 4, 64]               0\n",
      "           Linear-52         [-1, 1800, 4, 256]          16,640\n",
      "             GELU-53         [-1, 1800, 4, 256]               0\n",
      "          Dropout-54         [-1, 1800, 4, 256]               0\n",
      "           Linear-55           [-1, 1800, 4, 1]             257\n",
      "================================================================\n",
      "Total params: 125,505\n",
      "Trainable params: 125,505\n",
      "Non-trainable params: 0\n",
      "----------------------------------------------------------------\n",
      "Input size (MB): 0.11\n",
      "Forward/backward pass size (MB): 95.43\n",
      "Params size (MB): 0.48\n",
      "Estimated Total Size (MB): 96.02\n",
      "----------------------------------------------------------------\n"
     ]
    }
   ],
   "source": [
    "X, M, T_P, N, d = data_RLClustering(4)\n",
    "X = torch.tensor(X).float().to(device)\n",
    "\n",
    "Batch_size = 16  # number of batches\n",
    "num_samples_in_batch = 8  # number of samples in each batch\n",
    "input_dim = d  # dimensionality of the input space\n",
    "\n",
    "\n",
    "Y = torch.mean(X, dim=0).to(device) + torch.randn(M, input_dim).to(\n",
    "    device\n",
    ")  # example cluster tensor (M, input_dim)\n",
    "\n",
    "model = ADEN(input_dim=input_dim, d_model=64, n_layers=3, d_ff=128).to(device)\n",
    "\n",
    "torchsummary.summary(model, [(N, input_dim), (M, input_dim)])\n",
    "# visualize the model architecture"
   ]
  },
  {
   "cell_type": "code",
   "execution_count": 10,
   "id": "71b466f3",
   "metadata": {},
   "outputs": [],
   "source": [
    "\n",
    "def train(model, X, Y, device, \n",
    "          epochs=1000, batch_size=32, num_samples_in_batch=128, \n",
    "          lr=1e-4, weight_decay=1e-5, gamma=1000.0):\n",
    "    \"\"\"\n",
    "    Train ADEN model to learn expected distances.\n",
    "\n",
    "    Args:\n",
    "        model: PyTorch model (ADEN).\n",
    "        X: Tensor of data points, shape (N, input_dim).\n",
    "        Y: Tensor of cluster centroids, shape (M, input_dim).\n",
    "        d_t: Function computing distance between two points.\n",
    "        device: torch.device.\n",
    "        epochs: Number of training epochs.\n",
    "        batch_size: Number of batches.\n",
    "        num_samples_in_batch: Samples per batch.\n",
    "        lr: Learning rate.\n",
    "        weight_decay: Optimizer weight decay.\n",
    "        gamma: Transition probability scaling factor.\n",
    "    \"\"\"\n",
    "\n",
    "    N, input_dim = X.shape\n",
    "    M = Y.shape[0]\n",
    "\n",
    "    optimizer = torch.optim.AdamW(model.parameters(), lr=lr, weight_decay=weight_decay)\n",
    "\n",
    "    # expand Y to batch dimension\n",
    "    Y_batches = Y.unsqueeze(0).expand(batch_size, -1, -1).to(device)\n",
    "\n",
    "    # precompute transition probabilities\n",
    "    transition_probs = torch.exp(-gamma * torch.cdist(Y, Y, p=2) ** 2)  # (M, M)\n",
    "    transition_probs = transition_probs / transition_probs.sum(dim=-1, keepdim=True)\n",
    "\n",
    "    for epoch in range(epochs):\n",
    "        # sample batches from X\n",
    "        X_batches = torch.zeros(batch_size, num_samples_in_batch, input_dim, device=device)\n",
    "        for i in range(batch_size):\n",
    "            batch_indices = torch.randint(0, N, (num_samples_in_batch,), device=device)\n",
    "            X_batches[i] = X[batch_indices]\n",
    "\n",
    "        # forward pass\n",
    "        predicted_distances = model(X_batches, Y_batches)  # (batch_size, num_samples_in_batch, M)\n",
    "\n",
    "        # closest cluster index for each point\n",
    "        idx = torch.argmin(predicted_distances, dim=-1).long()  # (batch_size, num_samples_in_batch)\n",
    "\n",
    "        # mask only chosen cluster distances\n",
    "        mask = torch.zeros_like(predicted_distances, dtype=torch.bool)\n",
    "        mask.scatter_(2, idx.unsqueeze(2), 1)\n",
    "\n",
    "        # --- VECTORIZED multinomial sampling ---\n",
    "        # transition_probs[idx]: shape (batch_size, num_samples_in_batch, M)\n",
    "        probs = transition_probs[idx]  \n",
    "\n",
    "        # sample realized clusters\n",
    "        realized_clusters = torch.multinomial(\n",
    "            probs.view(-1, M), 1\n",
    "        ).view(batch_size, num_samples_in_batch)  # (batch_size, num_samples_in_batch)\n",
    "\n",
    "        # gather the centroid coordinates of realized clusters\n",
    "        realized_Y = Y_batches.gather(\n",
    "            1, realized_clusters.unsqueeze(-1).expand(-1, -1, input_dim)\n",
    "        )  # (batch_size, num_samples_in_batch, input_dim)\n",
    "\n",
    "        # compute distances d_t(X, Y_realized) vectorized\n",
    "        distances = d_t(X_batches, realized_Y)  # assume d_t supports batched input\n",
    "\n",
    "        # fill into D only at [batch, sample, idx]\n",
    "        D = torch.zeros(batch_size, num_samples_in_batch, M, device=device)\n",
    "        D.scatter_(2, idx.unsqueeze(-1), distances.unsqueeze(-1))\n",
    "\n",
    "        # masked MSE loss\n",
    "        mse_loss = torch.sum((D[mask] - predicted_distances[mask]) ** 2)\n",
    "\n",
    "        # logging\n",
    "        if epoch % 100 == 0:\n",
    "            print(f\"Epoch {epoch}, MSE Loss: {mse_loss.item()}\")\n",
    "\n",
    "        # backward + optimize\n",
    "        optimizer.zero_grad()\n",
    "        mse_loss.backward()\n",
    "        optimizer.step()"
   ]
  },
  {
   "cell_type": "code",
   "execution_count": 11,
   "id": "13943ba6",
   "metadata": {},
   "outputs": [
    {
     "name": "stdout",
     "output_type": "stream",
     "text": [
      "Epoch 0, MSE Loss: 286.44189453125\n",
      "Epoch 100, MSE Loss: 10.153948783874512\n",
      "Epoch 200, MSE Loss: 4.1623945236206055\n",
      "Epoch 300, MSE Loss: 2.7160418033599854\n",
      "Epoch 400, MSE Loss: 1.9208978414535522\n",
      "Epoch 500, MSE Loss: 1.5852608680725098\n",
      "Epoch 600, MSE Loss: 1.3422818183898926\n",
      "Epoch 700, MSE Loss: 1.2046127319335938\n",
      "Epoch 800, MSE Loss: 1.1461119651794434\n",
      "Epoch 900, MSE Loss: 0.9541707038879395\n"
     ]
    }
   ],
   "source": [
    "train(model, X, Y, device, epochs=1000, batch_size=32, num_samples_in_batch=128)\n"
   ]
  },
  {
   "cell_type": "code",
   "execution_count": 15,
   "id": "b3c2aa8b",
   "metadata": {},
   "outputs": [
    {
     "data": {
      "text/plain": [
       "ADEN(\n",
       "  (data_projection): Linear(in_features=2, out_features=64, bias=True)\n",
       "  (cluster_projection): Linear(in_features=2, out_features=64, bias=True)\n",
       "  (blocks): ModuleList(\n",
       "    (0-2): 3 x AdaptiveDistanceBlock(\n",
       "      (attention): MultiHeadDistanceAttention(\n",
       "        (W_q): Linear(in_features=64, out_features=64, bias=False)\n",
       "        (W_k): Linear(in_features=64, out_features=64, bias=False)\n",
       "        (W_v): Linear(in_features=64, out_features=64, bias=False)\n",
       "        (W_o): Linear(in_features=64, out_features=64, bias=True)\n",
       "        (dropout): Dropout(p=0.1, inplace=False)\n",
       "      )\n",
       "      (norm1): LayerNorm((64,), eps=1e-05, elementwise_affine=True)\n",
       "      (norm2): LayerNorm((64,), eps=1e-05, elementwise_affine=True)\n",
       "      (ffn): Sequential(\n",
       "        (0): Linear(in_features=64, out_features=128, bias=True)\n",
       "        (1): GELU(approximate='none')\n",
       "        (2): Dropout(p=0.1, inplace=False)\n",
       "        (3): Linear(in_features=128, out_features=64, bias=True)\n",
       "        (4): Dropout(p=0.1, inplace=False)\n",
       "      )\n",
       "      (dropout): Dropout(p=0.1, inplace=False)\n",
       "    )\n",
       "  )\n",
       "  (output_norm): LayerNorm((64,), eps=1e-05, elementwise_affine=True)\n",
       "  (distance_head): Sequential(\n",
       "    (0): Linear(in_features=128, out_features=64, bias=True)\n",
       "    (1): GELU(approximate='none')\n",
       "    (2): Dropout(p=0.1, inplace=False)\n",
       "    (3): Linear(in_features=64, out_features=256, bias=True)\n",
       "    (4): GELU(approximate='none')\n",
       "    (5): Dropout(p=0.1, inplace=False)\n",
       "    (6): Linear(in_features=256, out_features=1, bias=True)\n",
       "  )\n",
       ")"
      ]
     },
     "execution_count": 15,
     "metadata": {},
     "output_type": "execute_result"
    }
   ],
   "source": [
    "y_to_be_optimized = Y.clone().detach().requires_grad_(True)  # make Y a parameter to be optimized\n",
    "# fix model weights\n",
    "for param in model.parameters():\n",
    "    param.requires_grad = False\n",
    "model.eval()"
   ]
  },
  {
   "cell_type": "code",
   "execution_count": null,
   "id": "f40e6e05",
   "metadata": {},
   "outputs": [
    {
     "name": "stdout",
     "output_type": "stream",
     "text": [
      "Epoch 0, F: 15594.3955078125\n",
      "Epoch 100, F: 14920.966796875\n",
      "Epoch 200, F: 14287.4794921875\n",
      "Epoch 300, F: 13692.6572265625\n",
      "Epoch 400, F: 13118.8017578125\n",
      "Epoch 500, F: 12508.9521484375\n",
      "Epoch 600, F: 11733.021484375\n",
      "Epoch 700, F: 10749.013671875\n",
      "Epoch 800, F: 9747.611328125\n",
      "Epoch 900, F: 8847.03125\n",
      "Epoch 1000, F: 8053.3603515625\n",
      "Epoch 1100, F: 7349.177734375\n",
      "Epoch 1200, F: 6718.3876953125\n",
      "Epoch 1300, F: 6148.92919921875\n",
      "Epoch 1400, F: 5631.9365234375\n",
      "Epoch 1500, F: 5160.7734375\n",
      "Epoch 1600, F: 4730.3203125\n",
      "Epoch 1700, F: 4336.5185546875\n",
      "Epoch 1800, F: 3976.060791015625\n",
      "Epoch 1900, F: 3646.10595703125\n",
      "Epoch 2000, F: 3344.2255859375\n",
      "Epoch 2100, F: 3068.361328125\n",
      "Epoch 2200, F: 2816.679443359375\n",
      "Epoch 2300, F: 2587.3720703125\n",
      "Epoch 2400, F: 2378.794677734375\n",
      "Epoch 2500, F: 2189.5859375\n",
      "Epoch 2600, F: 2018.38525390625\n",
      "Epoch 2700, F: 1863.986572265625\n",
      "Epoch 2800, F: 1724.980712890625\n",
      "Epoch 2900, F: 1600.2840576171875\n",
      "Epoch 3000, F: 1488.8472900390625\n",
      "Epoch 3100, F: 1389.520263671875\n",
      "Epoch 3200, F: 1301.370849609375\n",
      "Epoch 3300, F: 1223.437255859375\n",
      "Epoch 3400, F: 1154.7567138671875\n",
      "Epoch 3500, F: 1094.550537109375\n",
      "Epoch 3600, F: 1041.912353515625\n",
      "Epoch 3700, F: 996.0965576171875\n",
      "Epoch 3800, F: 956.4200439453125\n",
      "Epoch 3900, F: 922.2366943359375\n",
      "Epoch 4000, F: 892.9492797851562\n",
      "Epoch 4100, F: 868.021484375\n",
      "Epoch 4200, F: 846.9422607421875\n",
      "Epoch 4300, F: 829.2177124023438\n",
      "Epoch 4400, F: 814.354736328125\n",
      "Epoch 4500, F: 801.9624633789062\n",
      "Epoch 4600, F: 791.715576171875\n",
      "Epoch 4700, F: 783.3065185546875\n",
      "Epoch 4800, F: 776.4783935546875\n",
      "Epoch 4900, F: 770.9853515625\n",
      "Epoch 5000, F: 766.5958251953125\n",
      "Epoch 5100, F: 763.1217651367188\n",
      "Epoch 5200, F: 760.3980102539062\n",
      "Epoch 5300, F: 758.2860107421875\n",
      "Epoch 5400, F: 756.667236328125\n",
      "Epoch 5500, F: 755.4427490234375\n",
      "Epoch 5600, F: 754.53076171875\n",
      "Epoch 5700, F: 753.861328125\n",
      "Epoch 5800, F: 753.3760986328125\n",
      "Epoch 5900, F: 753.029541015625\n",
      "Epoch 6000, F: 752.78662109375\n",
      "Epoch 6100, F: 752.61962890625\n",
      "Epoch 6200, F: 752.507568359375\n"
     ]
    }
   ],
   "source": [
    "optimizer_y = torch.optim.AdamW([y_to_be_optimized], lr=1e-3, weight_decay=1e-5)\n",
    "\n",
    "beta = 1\n",
    "F_old = torch.tensor(float('inf'), device=device)  # Initialize F_old to a large value\n",
    "epoch = 0\n",
    "while True:\n",
    "    # Update y_to_be_optimized using the gradients\n",
    "    d_s = model(X.unsqueeze(0), y_to_be_optimized.unsqueeze(0))[0] # (N, M)\n",
    "    F = -1/beta*torch.sum(torch.log(torch.sum(torch.exp(-beta*d_s), dim=-1)))\n",
    "    optimizer_y.zero_grad()\n",
    "    F.backward()\n",
    "    optimizer_y.step()\n",
    "    if epoch % 100 == 0:\n",
    "        print(f\"Epoch {epoch}, F: {F.item():2f}\")\n",
    "    if torch.norm(F_old - F)/torch.norm(F_old) < 1e-6:\n",
    "        break\n",
    "    F_old = F.clone()  # Update F_old for the next iteration\n",
    "    epoch += 1"
   ]
  },
  {
   "cell_type": "code",
   "execution_count": 17,
   "id": "fd9d1771",
   "metadata": {},
   "outputs": [
    {
     "data": {
      "image/png": "[encoded data removed]",
      "text/plain": [
       "<Figure size 640x480 with 1 Axes>"
      ]
     },
     "metadata": {},
     "output_type": "display_data"
    }
   ],
   "source": [
    "# plot locations of X and final y\n",
    "import matplotlib.pyplot as plt\n",
    "# converting results to numpy\n",
    "X_np = X.detach().cpu().numpy()\n",
    "y_np = y_to_be_optimized.detach().cpu().numpy()\n",
    "plt.scatter(X_np[:, 0], X_np[:, 1], label='Data Points')\n",
    "plt.scatter(y_np[:, 0], y_np[:, 1], label='Cluster Centers', marker='X', color='red')\n",
    "plt.legend()\n",
    "plt.show()"
   ]
  },
  {
   "cell_type": "code",
   "execution_count": 23,
   "id": "9507fbf5",
   "metadata": {},
   "outputs": [
    {
     "data": {
      "text/plain": [
       "tensor([[0.1991, 0.1423, 0.1202,  ..., 0.2433, 0.0307, 0.3001],\n",
       "        [0.1923, 0.1528, 0.1076,  ..., 0.2246, 0.0270, 0.2862],\n",
       "        [0.1931, 0.1409, 0.1141,  ..., 0.2346, 0.0281, 0.2917],\n",
       "        ...,\n",
       "        [0.0638, 0.0325, 0.1277,  ..., 0.1277, 0.1813, 0.0937],\n",
       "        [0.0588, 0.0232, 0.1134,  ..., 0.1230, 0.1556, 0.0947],\n",
       "        [0.0432, 0.0250, 0.0982,  ..., 0.0968, 0.1546, 0.0695]],\n",
       "       device='cuda:0', grad_fn=<SelectBackward0>)"
      ]
     },
     "execution_count": 23,
     "metadata": {},
     "output_type": "execute_result"
    }
   ],
   "source": [
    "model(X.unsqueeze(0), y_to_be_optimized.unsqueeze(0))[0]"
   ]
  },
  {
   "cell_type": "code",
   "execution_count": 24,
   "id": "97345694",
   "metadata": {},
   "outputs": [
    {
     "data": {
      "text/plain": [
       "tensor([[0.1908, 0.1332, 0.1121,  ..., 0.2356, 0.0221, 0.2922],\n",
       "        [0.1842, 0.1438, 0.0996,  ..., 0.2169, 0.0185, 0.2784],\n",
       "        [0.1849, 0.1318, 0.1061,  ..., 0.2269, 0.0196, 0.2838],\n",
       "        ...,\n",
       "        [0.0570, 0.0251, 0.1211,  ..., 0.1213, 0.1743, 0.0872],\n",
       "        [0.0519, 0.0156, 0.1067,  ..., 0.1165, 0.1485, 0.0881],\n",
       "        [0.0364, 0.0176, 0.0915,  ..., 0.0904, 0.1476, 0.0630]],\n",
       "       device='cuda:0', grad_fn=<MulBackward0>)"
      ]
     },
     "execution_count": 24,
     "metadata": {},
     "output_type": "execute_result"
    }
   ],
   "source": [
    "0.5*torch.cdist(X, y_to_be_optimized, p=2)**2"
   ]
  }
 ],
 "metadata": {
  "kernelspec": {
   "display_name": "Python 3",
   "language": "python",
   "name": "python3"
  },
  "language_info": {
   "codemirror_mode": {
    "name": "ipython",
    "version": 3
   },
   "file_extension": ".py",
   "mimetype": "text/x-python",
   "name": "python",
   "nbconvert_exporter": "python",
   "pygments_lexer": "ipython3",
   "version": "3.10.0"
  }
 },
 "nbformat": 4,
 "nbformat_minor": 5
}
