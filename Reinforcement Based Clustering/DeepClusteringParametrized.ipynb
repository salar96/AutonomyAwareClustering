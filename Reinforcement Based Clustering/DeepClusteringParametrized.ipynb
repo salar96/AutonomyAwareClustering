{
 "cells": [
  {
   "cell_type": "code",
   "execution_count": 1,
   "id": "e25e670e",
   "metadata": {},
   "outputs": [],
   "source": [
    "import numpy as np\n",
    "import torch\n",
    "from ADEN import ADEN\n",
    "device = torch.device(\"cuda\" if torch.cuda.is_available() else \"cpu\")"
   ]
  },
  {
   "cell_type": "code",
   "execution_count": 2,
   "id": "0158bfc0",
   "metadata": {},
   "outputs": [],
   "source": [
    "def d_t(x, y):\n",
    "    return 0.5 * torch.sum((x - y)** 2) "
   ]
  },
  {
   "cell_type": "code",
   "execution_count": 3,
   "id": "9ec3c9b0",
   "metadata": {},
   "outputs": [],
   "source": [
    "# creating an example dataset\n",
    "# x = torch.tensor([[1.0, 2.0], [3.0, 4.0]]).unsqueeze(0)\n",
    "# y = torch.tensor([[0.0, 0.0], [1.0, -1.0], [5.0, 1.0]]).unsqueeze(0)\n",
    "# dists = torch.cdist(x,y, p=2)**2\n",
    "# model = ADEN(input_dim=2, d_model=64, n_layers=3, d_ff=128).to('cpu')\n",
    "# model(x,y)"
   ]
  },
  {
   "cell_type": "code",
   "execution_count": 4,
   "id": "73a4af40",
   "metadata": {},
   "outputs": [
    {
     "name": "stdout",
     "output_type": "stream",
     "text": [
      "----------------------------------------------------------------\n",
      "        Layer (type)               Output Shape         Param #\n",
      "================================================================\n",
      "            Linear-1             [-1, 3100, 64]             192\n",
      "            Linear-2               [-1, 30, 64]             192\n",
      "            Linear-3             [-1, 3100, 64]           4,096\n",
      "            Linear-4               [-1, 30, 64]           4,096\n",
      "            Linear-5               [-1, 30, 64]           4,096\n",
      "           Dropout-6          [-1, 8, 3100, 30]               0\n",
      "            Linear-7             [-1, 3100, 64]           4,160\n",
      "MultiHeadDistanceAttention-8             [-1, 3100, 64]               0\n",
      "           Dropout-9             [-1, 3100, 64]               0\n",
      "        LayerNorm-10             [-1, 3100, 64]             128\n",
      "           Linear-11            [-1, 3100, 128]           8,320\n",
      "             GELU-12            [-1, 3100, 128]               0\n",
      "          Dropout-13            [-1, 3100, 128]               0\n",
      "           Linear-14             [-1, 3100, 64]           8,256\n",
      "          Dropout-15             [-1, 3100, 64]               0\n",
      "        LayerNorm-16             [-1, 3100, 64]             128\n",
      "AdaptiveDistanceBlock-17             [-1, 3100, 64]               0\n",
      "           Linear-18             [-1, 3100, 64]           4,096\n",
      "           Linear-19               [-1, 30, 64]           4,096\n",
      "           Linear-20               [-1, 30, 64]           4,096\n",
      "          Dropout-21          [-1, 8, 3100, 30]               0\n",
      "           Linear-22             [-1, 3100, 64]           4,160\n",
      "MultiHeadDistanceAttention-23             [-1, 3100, 64]               0\n",
      "          Dropout-24             [-1, 3100, 64]               0\n",
      "        LayerNorm-25             [-1, 3100, 64]             128\n",
      "           Linear-26            [-1, 3100, 128]           8,320\n",
      "             GELU-27            [-1, 3100, 128]               0\n",
      "          Dropout-28            [-1, 3100, 128]               0\n",
      "           Linear-29             [-1, 3100, 64]           8,256\n",
      "          Dropout-30             [-1, 3100, 64]               0\n",
      "        LayerNorm-31             [-1, 3100, 64]             128\n",
      "AdaptiveDistanceBlock-32             [-1, 3100, 64]               0\n",
      "           Linear-33             [-1, 3100, 64]           4,096\n",
      "           Linear-34               [-1, 30, 64]           4,096\n",
      "           Linear-35               [-1, 30, 64]           4,096\n",
      "          Dropout-36          [-1, 8, 3100, 30]               0\n",
      "           Linear-37             [-1, 3100, 64]           4,160\n",
      "MultiHeadDistanceAttention-38             [-1, 3100, 64]               0\n",
      "          Dropout-39             [-1, 3100, 64]               0\n",
      "        LayerNorm-40             [-1, 3100, 64]             128\n",
      "           Linear-41            [-1, 3100, 128]           8,320\n",
      "             GELU-42            [-1, 3100, 128]               0\n",
      "          Dropout-43            [-1, 3100, 128]               0\n",
      "           Linear-44             [-1, 3100, 64]           8,256\n",
      "          Dropout-45             [-1, 3100, 64]               0\n",
      "        LayerNorm-46             [-1, 3100, 64]             128\n",
      "AdaptiveDistanceBlock-47             [-1, 3100, 64]               0\n",
      "        LayerNorm-48             [-1, 3100, 64]             128\n",
      "           Linear-49         [-1, 3100, 30, 64]           8,256\n",
      "             GELU-50         [-1, 3100, 30, 64]               0\n",
      "          Dropout-51         [-1, 3100, 30, 64]               0\n",
      "           Linear-52        [-1, 3100, 30, 256]          16,640\n",
      "             GELU-53        [-1, 3100, 30, 256]               0\n",
      "          Dropout-54        [-1, 3100, 30, 256]               0\n",
      "           Linear-55          [-1, 3100, 30, 1]             257\n",
      "================================================================\n",
      "Total params: 125,505\n",
      "Trainable params: 125,505\n",
      "Non-trainable params: 0\n",
      "----------------------------------------------------------------\n",
      "Input size (MB): 1.42\n",
      "Forward/backward pass size (MB): 770.14\n",
      "Params size (MB): 0.48\n",
      "Estimated Total Size (MB): 772.03\n",
      "----------------------------------------------------------------\n"
     ]
    }
   ],
   "source": [
    "N = 100 # number of samples\n",
    "M = 30 # number of clusters\n",
    "Batch_size = 16 # number of batches\n",
    "num_samples_in_batch = 8 # number of samples in each batch\n",
    "input_dim = 2 # dimensionality of the input space\n",
    "# X = torch.rand(N, input_dim).to(device)  # example input tensor (N, input_dim)\n",
    "X = torch.tensor(np.loadtxt(\"D31.txt\")[:,:2],device=device,dtype=torch.float32) / 31\n",
    "N = X.shape[0]\n",
    "Y = torch.rand(M, input_dim).to(device)  # example cluster tensor (M, input_dim)\n",
    "model = ADEN(input_dim=input_dim, d_model=64, n_layers=3, d_ff=128).to(device)\n",
    "import torchsummary\n",
    "torchsummary.summary(model, [(N, input_dim), (M, input_dim)])\n",
    "# visualize the model architecture\n"
   ]
  },
  {
   "cell_type": "code",
   "execution_count": 5,
   "id": "71b466f3",
   "metadata": {},
   "outputs": [
    {
     "name": "stdout",
     "output_type": "stream",
     "text": [
      "Epoch 0, MSE Loss: 0.012990714982151985\n",
      "Epoch 10, MSE Loss: 0.010740525089204311\n",
      "Epoch 20, MSE Loss: 0.0044959532096982\n",
      "Epoch 30, MSE Loss: 0.006224015261977911\n",
      "Epoch 40, MSE Loss: 0.009251445531845093\n",
      "Epoch 50, MSE Loss: 0.006109796464443207\n",
      "Epoch 60, MSE Loss: 0.0045158714056015015\n",
      "Epoch 70, MSE Loss: 0.006029574666172266\n",
      "Epoch 80, MSE Loss: 0.005682009272277355\n",
      "Epoch 90, MSE Loss: 0.009485265240073204\n",
      "Epoch 100, MSE Loss: 0.0037235659547150135\n",
      "Epoch 110, MSE Loss: 0.004968636203557253\n",
      "Epoch 120, MSE Loss: 0.0069285230711102486\n",
      "Epoch 130, MSE Loss: 0.0043910169042646885\n",
      "Epoch 140, MSE Loss: 0.009391851723194122\n",
      "Epoch 150, MSE Loss: 0.005467178300023079\n",
      "Epoch 160, MSE Loss: 0.006585391238331795\n",
      "Epoch 170, MSE Loss: 0.007319921627640724\n",
      "Epoch 180, MSE Loss: 0.007324662990868092\n",
      "Epoch 190, MSE Loss: 0.008140729740262032\n",
      "Epoch 200, MSE Loss: 0.006778675597161055\n",
      "Epoch 210, MSE Loss: 0.00622203154489398\n",
      "Epoch 220, MSE Loss: 0.00427806144580245\n",
      "Epoch 230, MSE Loss: 0.004163694567978382\n",
      "Epoch 240, MSE Loss: 0.008456431329250336\n",
      "Epoch 250, MSE Loss: 0.009262297302484512\n",
      "Epoch 260, MSE Loss: 0.010192797519266605\n",
      "Epoch 270, MSE Loss: 0.010456538759171963\n",
      "Epoch 280, MSE Loss: 0.010120300576090813\n",
      "Epoch 290, MSE Loss: 0.006716092117130756\n",
      "Epoch 300, MSE Loss: 0.007088609039783478\n",
      "Epoch 310, MSE Loss: 0.00740255881100893\n",
      "Epoch 320, MSE Loss: 0.010922817513346672\n",
      "Epoch 330, MSE Loss: 0.008235706016421318\n",
      "Epoch 340, MSE Loss: 0.0051966323517262936\n",
      "Epoch 350, MSE Loss: 0.012219859287142754\n",
      "Epoch 360, MSE Loss: 0.0041655125096440315\n",
      "Epoch 370, MSE Loss: 0.00746496208012104\n",
      "Epoch 380, MSE Loss: 0.00460627768188715\n",
      "Epoch 390, MSE Loss: 0.006833063438534737\n",
      "Epoch 400, MSE Loss: 0.007332502864301205\n",
      "Epoch 410, MSE Loss: 0.01002788171172142\n",
      "Epoch 420, MSE Loss: 0.008222105912864208\n",
      "Epoch 430, MSE Loss: 0.005711893551051617\n",
      "Epoch 440, MSE Loss: 0.011598506942391396\n",
      "Epoch 450, MSE Loss: 0.008736873045563698\n",
      "Epoch 460, MSE Loss: 0.004483490251004696\n",
      "Epoch 470, MSE Loss: 0.004003183916211128\n",
      "Epoch 480, MSE Loss: 0.00788823701441288\n",
      "Epoch 490, MSE Loss: 0.008126185275614262\n"
     ]
    }
   ],
   "source": [
    "optimizer = torch.optim.AdamW(model.parameters(), lr=1e-4, weight_decay=1e-5)\n",
    "Y_batches = (\n",
    "    Y.unsqueeze(0).expand(Batch_size, -1, -1).to(device)\n",
    ")  # (Batch_size, M, input_dim)\n",
    "for epoch in range(500):  # example training loop\n",
    "\n",
    "    X_batches = torch.zeros(Batch_size, num_samples_in_batch, input_dim).to(\n",
    "        device\n",
    "    )  # (Batch_size, num_samples_in_batch, input_dim)\n",
    "    for i in range(Batch_size):\n",
    "        batch_indices = torch.randint(0, N, (num_samples_in_batch,)).to(device)\n",
    "        X_batches[i] = X[batch_indices]\n",
    "\n",
    "    predicted_distances = model(\n",
    "        X_batches, Y_batches\n",
    "    )  # predicted distances (Batch_size, num_samples_in_batch, M)\n",
    "    idx = torch.argmin(\n",
    "        predicted_distances, dim=-1\n",
    "    ).long()  # indices of the closest clusters (Batch_size, num_samples_in_batch)\n",
    "    # create a mask of chosen indices to only include them in the training error\n",
    "    mask = torch.zeros_like(predicted_distances, dtype=torch.bool)\n",
    "    mask.scatter_(2, idx.unsqueeze(2), 1)  # (Batch_size, num_samples_in_batch, M)\n",
    "    gamma = 100.0\n",
    "    transition_probs = torch.exp(-gamma * torch.cdist(Y, Y, p=2) ** 2)  # (M, M)\n",
    "    transition_probs = transition_probs / transition_probs.sum(dim=-1, keepdim=True)\n",
    "    D = torch.zeros(Batch_size, num_samples_in_batch, M).to(\n",
    "        device\n",
    "    )  # (Batch_size, num_samples_in_batch)\n",
    "    for b in range(Batch_size):\n",
    "        for i in range(num_samples_in_batch):\n",
    "            realized_cluster = torch.multinomial(transition_probs[idx[b][i]], 1).item()\n",
    "            D[b][i][idx[b][i]] = d_t(X_batches[b][i], Y_batches[b][realized_cluster])\n",
    "    # take MSE error between D and predicted_distances only when mask is true\n",
    "    mse_loss = torch.sum((D[mask] - predicted_distances[mask]) ** 2)\n",
    "    if epoch % 10 == 0:\n",
    "        print(f\"Epoch {epoch}, MSE Loss: {mse_loss.item()}\")\n",
    "    optimizer.zero_grad()\n",
    "    mse_loss.backward()\n",
    "    optimizer.step()"
   ]
  },
  {
   "cell_type": "code",
   "execution_count": 6,
   "id": "b3c2aa8b",
   "metadata": {},
   "outputs": [
    {
     "data": {
      "text/plain": [
       "ADEN(\n",
       "  (data_projection): Linear(in_features=2, out_features=64, bias=True)\n",
       "  (cluster_projection): Linear(in_features=2, out_features=64, bias=True)\n",
       "  (blocks): ModuleList(\n",
       "    (0-2): 3 x AdaptiveDistanceBlock(\n",
       "      (attention): MultiHeadDistanceAttention(\n",
       "        (W_q): Linear(in_features=64, out_features=64, bias=False)\n",
       "        (W_k): Linear(in_features=64, out_features=64, bias=False)\n",
       "        (W_v): Linear(in_features=64, out_features=64, bias=False)\n",
       "        (W_o): Linear(in_features=64, out_features=64, bias=True)\n",
       "        (dropout): Dropout(p=0.1, inplace=False)\n",
       "      )\n",
       "      (norm1): LayerNorm((64,), eps=1e-05, elementwise_affine=True)\n",
       "      (norm2): LayerNorm((64,), eps=1e-05, elementwise_affine=True)\n",
       "      (ffn): Sequential(\n",
       "        (0): Linear(in_features=64, out_features=128, bias=True)\n",
       "        (1): GELU(approximate='none')\n",
       "        (2): Dropout(p=0.1, inplace=False)\n",
       "        (3): Linear(in_features=128, out_features=64, bias=True)\n",
       "        (4): Dropout(p=0.1, inplace=False)\n",
       "      )\n",
       "      (dropout): Dropout(p=0.1, inplace=False)\n",
       "    )\n",
       "  )\n",
       "  (output_norm): LayerNorm((64,), eps=1e-05, elementwise_affine=True)\n",
       "  (distance_head): Sequential(\n",
       "    (0): Linear(in_features=128, out_features=64, bias=True)\n",
       "    (1): GELU(approximate='none')\n",
       "    (2): Dropout(p=0.1, inplace=False)\n",
       "    (3): Linear(in_features=64, out_features=256, bias=True)\n",
       "    (4): GELU(approximate='none')\n",
       "    (5): Dropout(p=0.1, inplace=False)\n",
       "    (6): Linear(in_features=256, out_features=1, bias=True)\n",
       "  )\n",
       ")"
      ]
     },
     "execution_count": 6,
     "metadata": {},
     "output_type": "execute_result"
    }
   ],
   "source": [
    "y_to_be_optimized = Y.clone().detach().requires_grad_(True)  # make Y a parameter to be optimized\n",
    "# fix model weights\n",
    "for param in model.parameters():\n",
    "    param.requires_grad = False\n",
    "model.eval()"
   ]
  },
  {
   "cell_type": "code",
   "execution_count": 17,
   "id": "f40e6e05",
   "metadata": {},
   "outputs": [
    {
     "name": "stdout",
     "output_type": "stream",
     "text": [
      "Epoch 0, F: 11.593018531799316\n"
     ]
    }
   ],
   "source": [
    "optimizer_y = torch.optim.AdamW([y_to_be_optimized], lr=1e-3, weight_decay=1e-5)\n",
    "\n",
    "beta = 500\n",
    "F_old = torch.tensor(float('inf'), device=device)  # Initialize F_old to a large value\n",
    "epoch = 0\n",
    "while True:\n",
    "    # Update y_to_be_optimized using the gradients\n",
    "    d_s = model(X.unsqueeze(0), y_to_be_optimized.unsqueeze(0))[0] # (N, M)\n",
    "    F = -1/beta*torch.sum(torch.log(torch.sum(torch.exp(-beta*d_s), dim=-1)))\n",
    "    optimizer_y.zero_grad()\n",
    "    F.backward()\n",
    "    optimizer_y.step()\n",
    "    if epoch % 100 == 0:\n",
    "        print(f\"Epoch {epoch}, F: {F.item()}\")\n",
    "    if torch.norm(F_old - F)/torch.norm(F_old) < 1e-6:\n",
    "        break\n",
    "    F_old = F.clone()  # Update F_old for the next iteration\n",
    "    epoch += 1"
   ]
  },
  {
   "cell_type": "code",
   "execution_count": 18,
   "id": "fd9d1771",
   "metadata": {},
   "outputs": [
    {
     "data": {
      "image/png": "[encoded data removed]",
      "text/plain": [
       "<Figure size 640x480 with 1 Axes>"
      ]
     },
     "metadata": {},
     "output_type": "display_data"
    }
   ],
   "source": [
    "# plot locations of X and final y\n",
    "import matplotlib.pyplot as plt\n",
    "# converting results to numpy\n",
    "X_np = X.detach().cpu().numpy()\n",
    "y_np = y_to_be_optimized.detach().cpu().numpy()\n",
    "plt.scatter(X_np[:, 0], X_np[:, 1], label='Data Points')\n",
    "plt.scatter(y_np[:, 0], y_np[:, 1], label='Cluster Centers', marker='X', color='red')\n",
    "plt.legend()\n",
    "plt.show()"
   ]
  },
  {
   "cell_type": "code",
   "execution_count": 19,
   "id": "9507fbf5",
   "metadata": {},
   "outputs": [
    {
     "data": {
      "text/plain": [
       "tensor([[0.1685, 0.2554, 0.0598,  ..., 0.0227, 0.1589, 0.1042],\n",
       "        [0.1675, 0.2577, 0.0487,  ..., 0.0197, 0.1821, 0.1254],\n",
       "        [0.1641, 0.2508, 0.0550,  ..., 0.0204, 0.1604, 0.1060],\n",
       "        ...,\n",
       "        [0.0427, 0.0228, 0.1697,  ..., 0.1810, 0.0340, 0.0635],\n",
       "        [0.0362, 0.0233, 0.1479,  ..., 0.1547, 0.0239, 0.0477],\n",
       "        [0.0264, 0.0123, 0.1383,  ..., 0.1546, 0.0371, 0.0625]],\n",
       "       device='cuda:0', grad_fn=<SelectBackward0>)"
      ]
     },
     "execution_count": 19,
     "metadata": {},
     "output_type": "execute_result"
    }
   ],
   "source": [
    "model(X.unsqueeze(0), y_to_be_optimized.unsqueeze(0))[0]"
   ]
  },
  {
   "cell_type": "code",
   "execution_count": 20,
   "id": "97345694",
   "metadata": {},
   "outputs": [
    {
     "data": {
      "text/plain": [
       "tensor([[0.1652, 0.2520, 0.0564,  ..., 0.0194, 0.1555, 0.1009],\n",
       "        [0.1641, 0.2543, 0.0454,  ..., 0.0164, 0.1787, 0.1220],\n",
       "        [0.1607, 0.2474, 0.0517,  ..., 0.0171, 0.1571, 0.1027],\n",
       "        ...,\n",
       "        [0.0394, 0.0195, 0.1664,  ..., 0.1777, 0.0306, 0.0602],\n",
       "        [0.0328, 0.0200, 0.1446,  ..., 0.1513, 0.0205, 0.0444],\n",
       "        [0.0230, 0.0090, 0.1349,  ..., 0.1512, 0.0337, 0.0591]],\n",
       "       device='cuda:0', grad_fn=<MulBackward0>)"
      ]
     },
     "execution_count": 20,
     "metadata": {},
     "output_type": "execute_result"
    }
   ],
   "source": [
    "0.5*torch.cdist(X, y_to_be_optimized, p=2)**2"
   ]
  }
 ],
 "metadata": {
  "kernelspec": {
   "display_name": "Python 3",
   "language": "python",
   "name": "python3"
  },
  "language_info": {
   "codemirror_mode": {
    "name": "ipython",
    "version": 3
   },
   "file_extension": ".py",
   "mimetype": "text/x-python",
   "name": "python",
   "nbconvert_exporter": "python",
   "pygments_lexer": "ipython3",
   "version": "3.10.0"
  }
 },
 "nbformat": 4,
 "nbformat_minor": 5
}
