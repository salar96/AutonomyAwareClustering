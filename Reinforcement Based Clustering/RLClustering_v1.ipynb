{
   "cells": [
      {
         "cell_type": "code",
         "execution_count": 1,
         "id": "fa491946-7363-41d0-8b04-6568325ca6fa",
         "metadata": {},
         "outputs": [],
         "source": [
            "import numpy as np\n",
            "import matplotlib.pyplot as plt"
         ]
      },
      {
         "cell_type": "code",
         "execution_count": 2,
         "id": "fdfbfe1b-f6a7-4081-8922-716996dab735",
         "metadata": {},
         "outputs": [],
         "source": [
            "def d_t(x, y):\n",
            "    return 0.5 * (np.linalg.norm(x - y))**2"
         ]
      },
      {
         "cell_type": "code",
         "execution_count": 3,
         "id": "e23fc674-beec-4fc1-bb45-376b204fc966",
         "metadata": {},
         "outputs": [],
         "source": [
            "def epsilon_schedule(t=0): return 0.1 # return 1 / (1 + t)\n",
            "def alpha_schedule(t=0): return 0.01\n",
            "def rho_schedule(i=0): return 1.0"
         ]
      },
      {
         "cell_type": "code",
         "execution_count": 4,
         "id": "ee2b3a55-a0db-4a69-a06d-3ea15e3b043f",
         "metadata": {},
         "outputs": [],
         "source": [
            "def prob_p_kji(N, M):\n",
            "    p_kji = np.full((N, M, M), 0.05 / (M - 1))  # Default: uniform for k ≠ j\n",
            "\n",
            "    for i in range(N):\n",
            "        for j in range(M):\n",
            "            p_kji[i, j, j] = 0.95  # Set p(k = j | j, i)\n",
            "\n",
            "    return p_kji"
         ]
      },
      {
         "cell_type": "code",
         "execution_count": 5,
         "id": "7e499c98-192a-4af1-8bb4-c648c69ada86",
         "metadata": {},
         "outputs": [],
         "source": [
            "def reinforcement_clustering(\n",
            "    beta_min, beta_max, tau, M, X, episodes=100, GD_iter=100, tol=1e-6\n",
            "):\n",
            "\n",
            "    N, d = X.shape\n",
            "    beta = beta_min\n",
            "    pi = np.full((N, M), 1 / M)\n",
            "    centroid = np.mean(X, axis=0)\n",
            "    Y = np.tile(centroid, (M, 1))  # Duplicate the centroid M times\n",
            "    d_bar = np.zeros((N, M))\n",
            "    prob = prob_p_kji(N, M)\n",
            "    t = 0  # time step (used for schedules)\n",
            "\n",
            "    buffer = np.ones((N, M, M))  # keep memory of interactions\n",
            "\n",
            "    while beta <= beta_max:\n",
            "        for _ in range(episodes):  # Outer convergence loop\n",
            "            i = np.random.randint(N)\n",
            "            j = np.argmax(pi[i])  # this hould be greedy\n",
            "            k = np.random.choice(M, p=prob[i, j, :])\n",
            "            buffer[i, j, k] += 1\n",
            "            eps = epsilon_schedule(t)\n",
            "            d_bar[i, j] = eps * d_t(X[i], Y[j]) + (1 - eps) * d_t(X[i], Y[k])\n",
            "        d_mins = np.mean(d_bar, axis=1, keepdims=True)\n",
            "        pi = np.exp(-beta * (d_bar - d_mins))\n",
            "        pi /= pi.sum(axis=1, keepdims=True)  # shape (N, M)\n",
            "        transitipn_prob = buffer / np.sum(\n",
            "            buffer, axis=2, keepdims=True\n",
            "        )  # shape (N, M, M)\n",
            "        derivs = np.zeros_like(Y)  # shape (M , 2)\n",
            "        for _ in range(GD_iter):  # Inner convergence loop\n",
            "            # for l in range(M):\n",
            "            #     pi_p = np.sum(transitipn_prob[:,:,l] * pi , axis = 1, keepdims= True)\n",
            "            #     derivs[l] = np.sum((Y[l] - X) * pi_p, axis= 0)\n",
            "            pi_p_all = np.sum(transitipn_prob * pi[:, :, None], axis=1)\n",
            "            diff = Y[:, None, :] - X[None, :, :]\n",
            "            derivs = np.sum(diff * pi_p_all.T[:, :, None], axis=1)\n",
            "            Y = Y - alpha_schedule(t) * derivs\n",
            "            if np.linalg.norm(derivs) < tol:\n",
            "                break\n",
            "            t += 1  # increment time step\n",
            "\n",
            "        beta *= tau  # annealing\n",
            "\n",
            "    return pi, Y"
         ]
      },
      {
         "cell_type": "code",
         "execution_count": 6,
         "id": "798929bc-09b4-46e2-b792-15cb1aa9b7c5",
         "metadata": {},
         "outputs": [
            {
               "name": "stdout",
               "output_type": "stream",
               "text": [
                  "Final Centroids (Y):\n",
                  "[[ 2.05783048  1.75468207]\n",
                  " [-1.77836375 -1.80537523]]\n"
               ]
            }
         ],
         "source": [
            "# Example synthetic data\n",
            "X = np.vstack(\n",
            "    [\n",
            "        np.random.randn(50, 2) + np.array([2, 2]),\n",
            "        np.random.randn(50, 2) + np.array([-2, -2]),\n",
            "    ]\n",
            ")\n",
            "\n",
            "beta_min = 0.01\n",
            "beta_max = 20.0\n",
            "tau = 1.1\n",
            "M = 2  # number of clusters\n",
            "\n",
            "pi_star, Y_final = reinforcement_clustering(beta_min, beta_max, tau, M, X)\n",
            "\n",
            "print(\"Final Centroids (Y):\")\n",
            "print(Y_final)"
         ]
      },
      {
         "cell_type": "code",
         "execution_count": 7,
         "id": "0a9c86aa-1a2a-4027-9c6f-53390f1706f6",
         "metadata": {},
         "outputs": [
            {
               "data": {
                  "image/png": "[encoded data removed]",
                  "text/plain": [
                     "<Figure size 640x480 with 1 Axes>"
                  ]
               },
               "metadata": {},
               "output_type": "display_data"
            }
         ],
         "source": [
            "assignments = np.argmax(pi_star, axis=1)\n",
            "\n",
            "plt.scatter(X[:, 0], X[:, 1], c=assignments, cmap=\"viridis\", label=\"Data points\")\n",
            "plt.scatter(Y_final[:, 0], Y_final[:, 1], c=\"red\", marker=\"x\", s=100, label=\"Centroids\")\n",
            "plt.title(\"Reinforcement-Based Clustering\")\n",
            "plt.legend()\n",
            "plt.show()"
         ]
      },
      {
         "cell_type": "code",
         "execution_count": 8,
         "id": "9225e204-7e21-4de6-b9d5-70f9831f4d7a",
         "metadata": {},
         "outputs": [
            {
               "data": {
                  "text/plain": [
                     "array([[1.00000000e+000, 1.04080324e-091],\n",
                     "       [1.00000000e+000, 2.11527194e-061],\n",
                     "       [1.00000000e+000, 1.27199693e-128],\n",
                     "       [1.00000000e+000, 4.08754978e-148],\n",
                     "       [1.00000000e+000, 2.56331641e-115],\n",
                     "       [1.00000000e+000, 1.94013440e-064],\n",
                     "       [1.00000000e+000, 3.90757475e-125],\n",
                     "       [1.00000000e+000, 1.20566578e-177],\n",
                     "       [1.00000000e+000, 1.19036862e-069],\n",
                     "       [1.00000000e+000, 7.67904589e-011],\n",
                     "       [1.00000000e+000, 1.31317992e-072],\n",
                     "       [1.00000000e+000, 2.05425924e-057],\n",
                     "       [1.00000000e+000, 1.18439450e-160],\n",
                     "       [1.00000000e+000, 1.56252299e-021],\n",
                     "       [6.84011854e-059, 1.00000000e+000],\n",
                     "       [1.00000000e+000, 7.88525101e-132],\n",
                     "       [1.00000000e+000, 7.48119408e-137],\n",
                     "       [1.00000000e+000, 7.64914208e-078],\n",
                     "       [1.00000000e+000, 7.49760497e-083],\n",
                     "       [1.00000000e+000, 7.05436883e-180],\n",
                     "       [1.00000000e+000, 1.02760233e-093],\n",
                     "       [1.00000000e+000, 4.61004715e-081],\n",
                     "       [1.00000000e+000, 4.08749416e-118],\n",
                     "       [1.00000000e+000, 9.13059778e-137],\n",
                     "       [1.00000000e+000, 4.83704867e-078],\n",
                     "       [1.00000000e+000, 7.45204296e-211],\n",
                     "       [1.00000000e+000, 3.94751366e-131],\n",
                     "       [1.00000000e+000, 8.66299436e-046],\n",
                     "       [1.00000000e+000, 1.13998588e-109],\n",
                     "       [1.00000000e+000, 1.16228565e-047],\n",
                     "       [1.00000000e+000, 4.76541559e-067],\n",
                     "       [1.00000000e+000, 1.36952321e-123],\n",
                     "       [1.00000000e+000, 8.75158124e-109],\n",
                     "       [1.00000000e+000, 1.25841430e-205],\n",
                     "       [1.00000000e+000, 7.91436321e-102],\n",
                     "       [1.00000000e+000, 9.11882750e-107],\n",
                     "       [1.00000000e+000, 3.18299994e-070],\n",
                     "       [1.00000000e+000, 6.98442540e-100],\n",
                     "       [1.00000000e+000, 5.10111831e-101],\n",
                     "       [1.00000000e+000, 1.81808841e-063],\n",
                     "       [1.00000000e+000, 2.27265681e-136],\n",
                     "       [1.00000000e+000, 2.49912758e-087],\n",
                     "       [1.00000000e+000, 1.57487427e-113],\n",
                     "       [1.00000000e+000, 1.14772403e-069],\n",
                     "       [1.00000000e+000, 5.49755677e-102],\n",
                     "       [1.00000000e+000, 6.28957524e-100],\n",
                     "       [1.00000000e+000, 3.77986044e-116],\n",
                     "       [1.00000000e+000, 5.90079910e-121],\n",
                     "       [1.00000000e+000, 1.13638290e-051],\n",
                     "       [1.00000000e+000, 1.09184130e-053],\n",
                     "       [3.20165349e-133, 1.00000000e+000],\n",
                     "       [3.73841417e-070, 1.00000000e+000],\n",
                     "       [4.96175126e-087, 1.00000000e+000],\n",
                     "       [8.85360450e-106, 1.00000000e+000],\n",
                     "       [1.67273209e-038, 1.00000000e+000],\n",
                     "       [8.51847302e-081, 1.00000000e+000],\n",
                     "       [2.24230670e-090, 1.00000000e+000],\n",
                     "       [8.99182203e-066, 1.00000000e+000],\n",
                     "       [3.45061917e-153, 1.00000000e+000],\n",
                     "       [3.61794531e-181, 1.00000000e+000],\n",
                     "       [1.20460814e-076, 1.00000000e+000],\n",
                     "       [6.61841744e-050, 1.00000000e+000],\n",
                     "       [6.82740724e-045, 1.00000000e+000],\n",
                     "       [2.98172116e-036, 1.00000000e+000],\n",
                     "       [1.05655962e-100, 1.00000000e+000],\n",
                     "       [4.27251767e-009, 9.99999996e-001],\n",
                     "       [4.20082156e-147, 1.00000000e+000],\n",
                     "       [2.02534222e-018, 1.00000000e+000],\n",
                     "       [3.76180952e-160, 1.00000000e+000],\n",
                     "       [5.31848782e-140, 1.00000000e+000],\n",
                     "       [3.68727532e-147, 1.00000000e+000],\n",
                     "       [1.37241629e-152, 1.00000000e+000],\n",
                     "       [6.01456857e-053, 1.00000000e+000],\n",
                     "       [1.37943545e-185, 1.00000000e+000],\n",
                     "       [1.50209322e-015, 1.00000000e+000],\n",
                     "       [1.62537797e-003, 9.98374622e-001],\n",
                     "       [1.93632074e-103, 1.00000000e+000],\n",
                     "       [3.00097417e-126, 1.00000000e+000],\n",
                     "       [1.34974646e-125, 1.00000000e+000],\n",
                     "       [3.19211117e-149, 1.00000000e+000],\n",
                     "       [7.67792219e-046, 1.00000000e+000],\n",
                     "       [1.05660145e-171, 1.00000000e+000],\n",
                     "       [3.96865129e-165, 1.00000000e+000],\n",
                     "       [7.88765931e-050, 1.00000000e+000],\n",
                     "       [1.18745804e-103, 1.00000000e+000],\n",
                     "       [1.28078286e-175, 1.00000000e+000],\n",
                     "       [3.50454678e-052, 1.00000000e+000],\n",
                     "       [4.46712845e-011, 1.00000000e+000],\n",
                     "       [1.55794284e-075, 1.00000000e+000],\n",
                     "       [9.04607275e-114, 1.00000000e+000],\n",
                     "       [8.75964811e-055, 1.00000000e+000],\n",
                     "       [7.92694170e-098, 1.00000000e+000],\n",
                     "       [1.11623796e-071, 1.00000000e+000],\n",
                     "       [1.29983180e-168, 1.00000000e+000],\n",
                     "       [9.78069700e-138, 1.00000000e+000],\n",
                     "       [1.44466853e-101, 1.00000000e+000],\n",
                     "       [7.18806909e-034, 1.00000000e+000],\n",
                     "       [1.71930074e-140, 1.00000000e+000],\n",
                     "       [2.24720101e-150, 1.00000000e+000],\n",
                     "       [3.83719507e-113, 1.00000000e+000]])"
                  ]
               },
               "execution_count": 8,
               "metadata": {},
               "output_type": "execute_result"
            }
         ],
         "source": [
            "pi_star"
         ]
      },
      {
         "cell_type": "code",
         "execution_count": null,
         "id": "897d7289-0302-4038-9d25-4d0ed66f1ab2",
         "metadata": {},
         "outputs": [],
         "source": []
      }
   ],
   "metadata": {
      "kernelspec": {
         "display_name": "Python 3",
         "language": "python",
         "name": "python3"
      },
      "language_info": {
         "codemirror_mode": {
            "name": "ipython",
            "version": 3
         },
         "file_extension": ".py",
         "mimetype": "text/x-python",
         "name": "python",
         "nbconvert_exporter": "python",
         "pygments_lexer": "ipython3",
         "version": "3.10.0"
      }
   },
   "nbformat": 4,
   "nbformat_minor": 5
}
