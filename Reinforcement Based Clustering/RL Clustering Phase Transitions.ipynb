{
 "cells": [
  {
   "cell_type": "code",
   "execution_count": 6,
   "id": "38293669-9f68-4c12-8b3b-259c760037f8",
   "metadata": {},
   "outputs": [],
   "source": [
    "# Cell 1: Imports\n",
    "import numpy as np\n",
    "import matplotlib.pyplot as plt\n",
    "import imageio\n",
    "from matplotlib import cm\n",
    "\n",
    "np.random.seed(42)"
   ]
  },
  {
   "cell_type": "code",
   "execution_count": 11,
   "id": "d5ef82c8-5ee8-42ba-86cc-80b2422d17db",
   "metadata": {},
   "outputs": [],
   "source": [
    "# Cell 2: Parameters and Data\n",
    "N = 3100               # Number of data points\n",
    "M = 31                 # Number of clusters\n",
    "beta_min = 0.1\n",
    "beta_max = 100.0\n",
    "tau = 1.05\n",
    "\n",
    "#X = np.random.randn(N, 2)               # 2D input data\n",
    "X = np.loadtxt(\"D31.txt\")[:,:2]\n",
    "rho = np.ones(N) / N                    # Uniform weights\n",
    "\n",
    "# Initialize cluster centers randomly\n",
    "Y = np.random.randn(M, 2)\n",
    "\n",
    "# Random probabilities p(l | j, i): shape (M, M, N)\n",
    "p_l_given_ji = np.zeros((M, M, N))  # l, j, i\n",
    "for j in range(M):\n",
    "    for i in range(N):\n",
    "        p_l_given_ji[:, j, i] = np.random.dirichlet(np.ones(M))\n",
    "\n",
    "frames = []"
   ]
  },
  {
   "cell_type": "code",
   "execution_count": 12,
   "id": "58bc04c0-acfe-48b6-a7e1-d49d6ef8de3b",
   "metadata": {},
   "outputs": [],
   "source": [
    "# Cell 3: Distance function\n",
    "def d(x, y):\n",
    "    return np.linalg.norm(x - y) ** 2"
   ]
  },
  {
   "cell_type": "code",
   "execution_count": null,
   "id": "2f5f20ee-c8d8-4162-91c9-36c310eb20d4",
   "metadata": {},
   "outputs": [],
   "source": [
    "# Cell 4: Main loop with policy and y_l updates\n",
    "beta = beta_min\n",
    "\n",
    "while beta <= beta_max:\n",
    "    converged = False\n",
    "    while not converged:\n",
    "        # Step 1: Compute π(y_j | x_i)\n",
    "        pi = np.zeros((N, M))  # shape: (num_data_points, num_clusters)\n",
    "        \n",
    "        for i in range(N):\n",
    "            numerators = np.zeros(M)\n",
    "            for j in range(M):\n",
    "                total = 0.0\n",
    "                for l in range(M):\n",
    "                    total += p_l_given_ji[l, j, i] * d(X[i], Y[l])\n",
    "                numerators[j] = np.exp(-beta * total)\n",
    "        \n",
    "            denom = np.sum(numerators)\n",
    "            if denom == 0:\n",
    "                pi[i] = np.ones(M) / M  # fallback to uniform if all numerators were zero\n",
    "            else:\n",
    "                pi[i] = numerators / denom\n",
    "\n",
    "        # Step 2: Update cluster centers y_l\n",
    "        Y_new = np.zeros_like(Y)\n",
    "        for l in range(M):\n",
    "            numerator = np.zeros(2)\n",
    "            denominator = 0\n",
    "            for i in range(N):\n",
    "                for j in range(M):\n",
    "                    pij = pi[i][j]\n",
    "                    plji = p_l_given_ji[l,j,i]\n",
    "                    numerator += rho[i] * pij * plji * X[i]\n",
    "                    denominator += rho[i] * pij * plji\n",
    "            if denominator > 0:\n",
    "                Y_new[l] = numerator / denominator\n",
    "            else:\n",
    "                Y_new[l] = Y[l]\n",
    "\n",
    "        # Check for convergence\n",
    "        if np.allclose(Y, Y_new, atol=1e-3):\n",
    "            converged = True\n",
    "        Y = Y_new\n",
    "\n",
    "    # Plot for GIF\n",
    "    fig, ax = plt.subplots(figsize=(6, 6))\n",
    "    ax.scatter(X[:, 0], X[:, 1], alpha=0.5, label=\"Data\")\n",
    "    ax.scatter(Y[:, 0], Y[:, 1], color='red', s=100, marker='X', label=\"Centers\")\n",
    "    ax.set_title(f\"β = {beta:.2f}\")\n",
    "    ax.legend()\n",
    "    ax.grid(True)\n",
    "\n",
    "    fig.canvas.draw()\n",
    "    image = np.frombuffer(fig.canvas.tostring_rgb(), dtype='uint8')\n",
    "    image = image.reshape(fig.canvas.get_width_height()[::-1] + (3,))\n",
    "    frames.append(image)\n",
    "    plt.close()\n",
    "\n",
    "    beta *= tau"
   ]
  },
  {
   "cell_type": "code",
   "execution_count": null,
   "id": "96e16989-30dd-4ee3-9904-68e7bce3dcbd",
   "metadata": {},
   "outputs": [],
   "source": [
    "# Cell 5: Save animation\n",
    "imageio.mimsave(\"phase_transition_clustering.gif\", frames, fps=2)\n",
    "print(\"GIF saved as 'phase_transition_clustering.gif'\")"
   ]
  },
  {
   "cell_type": "code",
   "execution_count": null,
   "id": "713c9416-088b-406d-8224-4094ad47a8d7",
   "metadata": {},
   "outputs": [],
   "source": []
  }
 ],
 "metadata": {
  "kernelspec": {
   "display_name": "Python 3 (ipykernel)",
   "language": "python",
   "name": "python3"
  },
  "language_info": {
   "codemirror_mode": {
    "name": "ipython",
    "version": 3
   },
   "file_extension": ".py",
   "mimetype": "text/x-python",
   "name": "python",
   "nbconvert_exporter": "python",
   "pygments_lexer": "ipython3",
   "version": "3.11.7"
  }
 },
 "nbformat": 4,
 "nbformat_minor": 5
}
