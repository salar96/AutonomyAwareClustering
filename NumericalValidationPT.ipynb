{
 "cells": [
  {
   "cell_type": "code",
   "execution_count": 1,
   "id": "4ee4ae3f",
   "metadata": {},
   "outputs": [],
   "source": [
    "import numpy as np\n",
    "from scipy.spatial.distance import cdist\n",
    "\n",
    "def p_to_minus_half(P):\n",
    "        # Since P is diagonal, just invert and sqrt the diagonal elements\n",
    "        diag = np.diag(P)\n",
    "        inv_sqrt_diag = np.where(diag > 1e-12, diag**-0.5, 0.0)\n",
    "        return np.diag(inv_sqrt_diag)"
   ]
  },
  {
   "cell_type": "code",
   "execution_count": 2,
   "id": "0ec57e22",
   "metadata": {},
   "outputs": [],
   "source": [
    "np.random.seed(50)  # For reproducibility\n",
    "N = 4;\n",
    "M = 7;\n",
    "d = 2;\n",
    "beta = 2.1;\n",
    "x = np.array([[1.0, -2.0], [3.0, 4.5], [-5.0, 6.0], [-1.0, 2.0]])\n",
    "# np.kron(np.ones((M, 1)), x[0])  # M x d matrix\n",
    "y = np.array([[1.3,1.9],[1.3,1.9],[2.1,-3.1],[2.1,-3.1],[3.5,6.1],[3.5,6.1],[3.5,6.1]])\n",
    "# to flatten y we have\n",
    "Y = y.reshape((M * d, 1))\n",
    "# Now we make a random M*M diagonal matrix with entries summing  to 1\n",
    "\n",
    "P =np.zeros((N,M,M*d,M*d))\n",
    "P_diags = np.zeros((N, M, M ))\n",
    "for i in range(N):\n",
    "    for j in range(M):\n",
    "        first_two = np.ones(2)*np.random.rand();\n",
    "        second_two = np.ones(2)*np.random.rand();\n",
    "        third = np.ones(3)*np.random.rand();\n",
    "        values = np.concatenate((first_two, second_two, third))\n",
    "        # values += np.random.rand(M)*2  # Add some noise\n",
    "        values = values / np.sum(values)  # Normalize to sum to 1\n",
    "        P_diags[i, j, :] = values \n",
    "        P_hat_ij = np.diag(values)\n",
    "        \n",
    "        P[i,j,:,:] = np.kron(P_hat_ij, np.eye((d)))\n",
    "       \n",
    "\n",
    "\n",
    "        \n",
    "\n",
    "rho = np.ones(N) / N\n",
    "\n",
    "D = cdist(x, y, \"sqeuclidean\", out=None)\n",
    "D_bar = np.sum(np.tile(D[:, None, :], (1, M, 1)) * P_diags, axis=2)\n",
    "mins = np.min(D_bar, axis=1, keepdims=True)\n",
    "D_bar_normalized = D_bar - mins\n",
    "pi_j_i = np.exp(-beta * D_bar_normalized)\n",
    "pi_j_i /= np.sum(pi_j_i, axis=1, keepdims=True)\n",
    "\n",
    "\n",
    "P_K = 0.0;\n",
    "\n",
    "for i in range(N):\n",
    "    for j in range(M):\n",
    "        P_A_i_j =  rho[i] * pi_j_i[i, j] * P[i,j]\n",
    "        P_K += P_A_i_j\n",
    "Delta = 0.0\n",
    "for i in range(N):\n",
    "    z_i = Y - np.kron(np.ones((M, 1)), x[i].reshape((d,1)))\n",
    "    Z_i = z_i @ z_i.T # shape (M*d, M*d)\n",
    "    for j in range(M):\n",
    "        P_A_i_j =  rho[i] * pi_j_i[i, j] * P[i,j]\n",
    "        \n",
    "        Delta += p_to_minus_half(P_K)@P_A_i_j@Z_i@P[i,j]@p_to_minus_half(P_K)\n",
    "cov = 0.0  \n",
    "for k in range(M):\n",
    "    for i in range(N):\n",
    "        z_i = Y - np.kron(np.ones((M, 1)), x[i].reshape((d,1)))\n",
    "        Z_i = z_i @ z_i.T # shape (M*d, M*d)\n",
    "        for j in range(M):\n",
    "            P_A_i_j =  rho[i] * pi_j_i[i, j] * P[i,j]\n",
    "            cov +=   P_A_i_j * P[i,j] *np.linalg.inv(P_K) @ Z_i\n",
    "\n",
    "def f1(psi, beta):\n",
    "    U = (np.eye(M*d) - 2 * beta * Delta)\n",
    "    # psi is a vector of shape (M*d, 1)\n",
    "    return psi.T @ (P_K**0.5)@U @ (P_K**0.5)@psi\n",
    "def constraint(psi):\n",
    "    term_2 = np.zeros(N)\n",
    "    for i in range(N):\n",
    "        out = 0.0\n",
    "        z_i = Y - np.kron(np.ones((M, 1)), x[i].reshape((d,1)))\n",
    "        for j in range(M):\n",
    "            summand = pi_j_i[i,j]*z_i.T @ P[i,j] @ psi\n",
    "            # print(f\"summand i= {i+1} j= {j+1}: {summand}\")\n",
    "            out += summand\n",
    "        term_2[i] = out[0][0]\n",
    "    return term_2"
   ]
  },
  {
   "cell_type": "code",
   "execution_count": 3,
   "id": "e4257e62",
   "metadata": {},
   "outputs": [
    {
     "name": "stdout",
     "output_type": "stream",
     "text": [
      "Delta matrix:\n",
      "[[ 4.42408 -2.28859  4.42408 -2.28859  2.05329 -2.71412  2.05329 -2.71412\n",
      "   2.31781  0.20375  2.31781  0.20375  2.31781  0.20375]\n",
      " [-2.28859  2.77531 -2.28859  2.77531 -0.82869  1.27039 -0.82869  1.27039\n",
      "  -1.05007  1.06596 -1.05007  1.06596 -1.05007  1.06596]\n",
      " [ 4.42408 -2.28859  4.42408 -2.28859  2.05329 -2.71412  2.05329 -2.71412\n",
      "   2.31781  0.20375  2.31781  0.20375  2.31781  0.20375]\n",
      " [-2.28859  2.77531 -2.28859  2.77531 -0.82869  1.27039 -0.82869  1.27039\n",
      "  -1.05007  1.06596 -1.05007  1.06596 -1.05007  1.06596]\n",
      " [ 2.05329 -0.82869  2.05329 -0.82869  1.35187 -1.95582  1.35187 -1.95582\n",
      "   1.18159  0.50788  1.18159  0.50788  1.18159  0.50788]\n",
      " [-2.71412  1.27039 -2.71412  1.27039 -1.95582  3.19304 -1.95582  3.19304\n",
      "  -1.68159 -0.94404 -1.68159 -0.94404 -1.68159 -0.94404]\n",
      " [ 2.05329 -0.82869  2.05329 -0.82869  1.35187 -1.95582  1.35187 -1.95582\n",
      "   1.18159  0.50788  1.18159  0.50788  1.18159  0.50788]\n",
      " [-2.71412  1.27039 -2.71412  1.27039 -1.95582  3.19304 -1.95582  3.19304\n",
      "  -1.68159 -0.94404 -1.68159 -0.94404 -1.68159 -0.94404]\n",
      " [ 2.31781 -1.05007  2.31781 -1.05007  1.18159 -1.68159  1.18159 -1.68159\n",
      "   1.47154  0.80708  1.47154  0.80708  1.47154  0.80708]\n",
      " [ 0.20375  1.06596  0.20375  1.06596  0.50788 -0.94404  0.50788 -0.94404\n",
      "   0.80708  2.32342  0.80708  2.32342  0.80708  2.32342]\n",
      " [ 2.31781 -1.05007  2.31781 -1.05007  1.18159 -1.68159  1.18159 -1.68159\n",
      "   1.47154  0.80708  1.47154  0.80708  1.47154  0.80708]\n",
      " [ 0.20375  1.06596  0.20375  1.06596  0.50788 -0.94404  0.50788 -0.94404\n",
      "   0.80708  2.32342  0.80708  2.32342  0.80708  2.32342]\n",
      " [ 2.31781 -1.05007  2.31781 -1.05007  1.18159 -1.68159  1.18159 -1.68159\n",
      "   1.47154  0.80708  1.47154  0.80708  1.47154  0.80708]\n",
      " [ 0.20375  1.06596  0.20375  1.06596  0.50788 -0.94404  0.50788 -0.94404\n",
      "   0.80708  2.32342  0.80708  2.32342  0.80708  2.32342]]\n"
     ]
    }
   ],
   "source": [
    "np.set_printoptions(precision=5, suppress=True)\n",
    "print(\"Delta matrix:\")\n",
    "print(Delta)"
   ]
  },
  {
   "cell_type": "code",
   "execution_count": 4,
   "id": "af2a430b",
   "metadata": {},
   "outputs": [
    {
     "name": "stdout",
     "output_type": "stream",
     "text": [
      "Gamma matrix:\n",
      "[[ 8.84816 -4.57718  4.10657 -5.42823  5.67745  0.49908]\n",
      " [-4.57718  5.55062 -1.65739  2.54078 -2.57213  2.61106]\n",
      " [ 4.10657 -1.65739  2.70373 -3.91164  2.8943   1.24406]\n",
      " [-5.42823  2.54078 -3.91164  6.38608 -4.11904 -2.31242]\n",
      " [ 5.67745 -2.57213  2.8943  -4.11904  4.41462  2.42124]\n",
      " [ 0.49908  2.61106  1.24406 -2.31242  2.42124  6.97027]]\n"
     ]
    }
   ],
   "source": [
    "Gamma = Delta[[0,1,4,5,8,9],:]\n",
    "Gamma = Gamma[:, [0,1,4,5,8,9]]\n",
    "dummy = np.array([[2.0,2.0,np.sqrt(6.0)], [2.0,2.0,np.sqrt(6.0)], [np.sqrt(6.0),np.sqrt(6.0),3.0]])\n",
    "dummy_doubled = np.repeat(np.repeat(dummy, 2, axis=0), 2, axis=1)\n",
    "Gamma = Gamma * dummy_doubled\n",
    "print(\"Gamma matrix:\")\n",
    "print(Gamma)"
   ]
  },
  {
   "cell_type": "code",
   "execution_count": 5,
   "id": "c5f9422c",
   "metadata": {},
   "outputs": [
    {
     "name": "stdout",
     "output_type": "stream",
     "text": [
      "Eigenvalue 0: 21.94\n",
      "Eigenvector: [-0.42593  0.22681 -0.42593  0.22681 -0.23059  0.33759 -0.23059  0.33759\n",
      " -0.24635 -0.07734 -0.24635 -0.07734 -0.24635 -0.07734]\n",
      "\n",
      "Eigenvalue 1: 9.45\n",
      "Eigenvector: [ 0.11234 -0.36466  0.11234 -0.36466 -0.05091  0.11356 -0.05091  0.11356\n",
      " -0.07021 -0.47012 -0.07021 -0.47012 -0.07021 -0.47012]\n",
      "\n",
      "Eigenvalue 2: 2.01\n",
      "Eigenvector: [-0.27895  0.05897 -0.27895  0.05897  0.21096 -0.52652  0.21096 -0.52652\n",
      " -0.20984 -0.14361 -0.20984 -0.14361 -0.20984 -0.14361]\n",
      "\n",
      "Eigenvalue 3: 1.38\n",
      "Eigenvector: [-0.34501 -0.52614 -0.34501 -0.52614 -0.16958 -0.06383 -0.16958 -0.06383\n",
      "  0.0561   0.2107   0.0561   0.2107   0.0561   0.2107 ]\n",
      "\n",
      "Eigenvalue 4: 0.09\n",
      "Eigenvector: [-0.19594 -0.08616 -0.19594 -0.08616  0.60137  0.29386  0.60137  0.29386\n",
      "  0.06372  0.00773  0.06372  0.00773  0.06372  0.00773]\n",
      "\n",
      "Eigenvalue 5: 0.00\n",
      "Eigenvector: [ 0.26594 -0.16689  0.26594 -0.16689  0.09655  0.07413  0.09655  0.07413\n",
      " -0.46527  0.20313 -0.46527  0.20313 -0.46527  0.20313]\n",
      "\n",
      "Eigenvalue 6: 0.00\n",
      "Eigenvector: [ 0.15714 -0.68916 -0.15714  0.68916  0.01905 -0.00022 -0.01905  0.00022\n",
      "  0.      -0.       0.      -0.       0.      -0.     ]\n",
      "\n",
      "Eigenvalue 7: -0.00\n",
      "Eigenvector: [ 0.50483  0.49512 -0.50483 -0.49512  0.00102  0.00007 -0.00102 -0.00007\n",
      " -0.       0.      -0.       0.      -0.       0.     ]\n",
      "\n",
      "Eigenvalue 8: 0.00\n",
      "Eigenvector: [-0.04179  0.11366  0.04179 -0.11366  0.69665  0.00371 -0.69665 -0.00371\n",
      " -0.       0.      -0.       0.      -0.       0.     ]\n",
      "\n",
      "Eigenvalue 9: -0.00\n",
      "Eigenvector: [-0.03289  0.0841   0.03289 -0.0841   0.56751 -0.41205 -0.56751  0.41205\n",
      " -0.       0.      -0.       0.      -0.       0.     ]\n",
      "\n",
      "Eigenvalue 10: 0.00\n",
      "Eigenvector: [ 0.00059 -0.09325 -0.00059  0.09325  0.23922 -0.31564 -0.23922  0.31564\n",
      "  0.00362 -0.66778 -0.00181  0.33389 -0.00181  0.33389]\n",
      "\n",
      "Eigenvalue 11: -0.00\n",
      "Eigenvector: [-0.       0.       0.      -0.       0.      -0.      -0.       0.\n",
      "  0.8165  -0.      -0.40825  0.      -0.40825  0.     ]\n",
      "\n",
      "Eigenvalue 12: 0.00\n",
      "Eigenvector: [ 0.00013 -0.02018 -0.00013  0.02018  0.05176 -0.06829 -0.05176  0.06829\n",
      "  0.00078 -0.14448 -0.69075  0.07224  0.68997  0.07224]\n",
      "\n",
      "Eigenvalue 13: 0.00\n",
      "Eigenvector: [ 0.00079 -0.12516 -0.00079  0.12516  0.32109 -0.42367 -0.32109  0.42367\n",
      " -0.00001  0.00181  0.00867 -0.44998 -0.00866  0.44816]\n",
      "\n"
     ]
    }
   ],
   "source": [
    "eig_val_Delta , eig_vec_Delta = np.linalg.eig(Delta)  # Check eigenvalues of the matrix\n",
    "for idx, val in enumerate(eig_val_Delta):\n",
    "    print(f\"Eigenvalue {idx}: {val:.2f}\")\n",
    "    print(\"Eigenvector:\", eig_vec_Delta[:, idx])\n",
    "    print()"
   ]
  },
  {
   "cell_type": "code",
   "execution_count": 6,
   "id": "63ca2bed",
   "metadata": {},
   "outputs": [
    {
     "name": "stdout",
     "output_type": "stream",
     "text": [
      "Eigenvalue 0: 21.944\n",
      "Eigenvector: [-0.60235  0.32076 -0.32611  0.47742 -0.42669 -0.13396]\n",
      "\n",
      "Eigenvalue 1: 9.454\n",
      "Eigenvector: [ 0.15888 -0.51571 -0.07199  0.16059 -0.12161 -0.81427]\n",
      "\n",
      "Eigenvalue 2: 2.010\n",
      "Eigenvector: [-0.3945   0.0834   0.29834 -0.74461 -0.36345 -0.24874]\n",
      "\n",
      "Eigenvalue 3: 1.378\n",
      "Eigenvector: [ 0.48792  0.74407  0.23983  0.09027 -0.09716 -0.36494]\n",
      "\n",
      "Eigenvalue 4: 0.000\n",
      "Eigenvector: [-0.3761   0.23602 -0.13654 -0.10483  0.80587 -0.35183]\n",
      "\n",
      "Eigenvalue 5: 0.087\n",
      "Eigenvector: [ 0.2771   0.12185 -0.85047 -0.41558 -0.11037 -0.01339]\n",
      "\n"
     ]
    }
   ],
   "source": [
    "eig_val_Gamma , eig_vec_Gamma = np.linalg.eig(Gamma)  # Check eigenvalues of the matrix\n",
    "for idx, val in enumerate(eig_val_Gamma):\n",
    "    print(f\"Eigenvalue {idx}: {val:.3f}\")\n",
    "    print(\"Eigenvector:\", eig_vec_Gamma[:, idx])\n",
    "    print()\n"
   ]
  },
  {
   "cell_type": "code",
   "execution_count": 7,
   "id": "fac0f223",
   "metadata": {},
   "outputs": [
    {
     "data": {
      "text/plain": [
       "array([-0.60235,  0.32076, -0.60235,  0.32076, -0.32611,  0.47742,\n",
       "       -0.32611,  0.47742, -0.42669, -0.13396, -0.42669, -0.13396,\n",
       "       -0.42669, -0.13396])"
      ]
     },
     "execution_count": 7,
     "metadata": {},
     "output_type": "execute_result"
    }
   ],
   "source": [
    "def expand_eigenvector(vec6):\n",
    "    \"\"\"\n",
    "    Given a vector of size 6, expand it to size 14 by repeating each block of two values together:\n",
    "    - The first two values are repeated as a block once (total 4 elements)\n",
    "    - The second two values are repeated as a block once (total 4 elements)\n",
    "    - The last two values are repeated as a block twice (total 6 elements)\n",
    "    Args:\n",
    "        vec6 (np.ndarray): shape (6,) or (6,1)\n",
    "    Returns:\n",
    "        np.ndarray: shape (14,)\n",
    "    \"\"\"\n",
    "    vec6 = np.asarray(vec6).flatten()\n",
    "    assert vec6.shape[0] == 6, \"Input vector must have size 6\"\n",
    "    out = np.concatenate([\n",
    "        np.tile(vec6[0:2], 2),   # [a, b, a, b]\n",
    "        np.tile(vec6[2:4], 2),   # [c, d, c, d]\n",
    "        np.tile(vec6[4:6], 3)    # [e, f, e, f, e, f]\n",
    "    ])\n",
    "    power = -1.0\n",
    "    correction = np.repeat(np.array([np.sqrt(2.0)**power, np.sqrt(2.0)**power, np.sqrt(2.0)**power, np.sqrt(2.0)**power, np.sqrt(3.0)**power, np.sqrt(3.0)**power,np.sqrt(3.0)**power]),2)\n",
    "    return out\n",
    "expand_eigenvector(eig_vec_Gamma[:, 0])"
   ]
  },
  {
   "cell_type": "code",
   "execution_count": 8,
   "id": "30bb365d",
   "metadata": {},
   "outputs": [
    {
     "data": {
      "text/plain": [
       "array([[-0.62785],\n",
       "       [ 0.32842],\n",
       "       [-0.62785],\n",
       "       [ 0.32842],\n",
       "       [-0.34046],\n",
       "       [ 0.49859],\n",
       "       [-0.34046],\n",
       "       [ 0.49859],\n",
       "       [-0.36686],\n",
       "       [-0.12583],\n",
       "       [-0.36686],\n",
       "       [-0.12583],\n",
       "       [-0.36686],\n",
       "       [-0.12583]])"
      ]
     },
     "execution_count": 8,
     "metadata": {},
     "output_type": "execute_result"
    }
   ],
   "source": [
    "Delta@expand_eigenvector(eig_vec_Gamma[:, 0]).reshape((M * d, 1))/eig_val_Gamma[0]"
   ]
  },
  {
   "cell_type": "code",
   "execution_count": 9,
   "id": "d656eca5",
   "metadata": {},
   "outputs": [
    {
     "name": "stdout",
     "output_type": "stream",
     "text": [
      "Optimal psi:\n",
      " [[-0.14305]\n",
      " [-0.08568]\n",
      " [-0.14365]\n",
      " [-0.0856 ]\n",
      " [ 0.6101 ]\n",
      " [ 0.30537]\n",
      " [ 0.6106 ]\n",
      " [ 0.30494]\n",
      " [ 0.064  ]\n",
      " [ 0.01558]\n",
      " [ 0.06367]\n",
      " [ 0.01575]\n",
      " [ 0.06351]\n",
      " [ 0.01585]]\n",
      "Objective value: -0.0006469485060597163\n",
      "Constraint values: [ 0.  0. -0. -0.]\n",
      "Norm constraint value: 0.9999993855186531\n",
      "Total psi value: -0.0006469485060597163\n"
     ]
    }
   ],
   "source": [
    "from scipy.optimize import minimize\n",
    "beta= 5.15\n",
    "# Initial guess for psi (shape: (M*d, 1))\n",
    "psi0 = np.random.rand(M * d, 1)\n",
    "# psi0 = np.ones((M * d, 1))  # Starting with a zero vector\n",
    "# Objective function for scipy (expects 1D array)\n",
    "def obj_fun(psi_flat):\n",
    "    psi = psi_flat.reshape((M * d, 1))\n",
    "    return f1(psi, beta).item()\n",
    "\n",
    "# Constraint function for scipy (expects 1D array, returns 1D array)\n",
    "def cons_fun(psi_flat):\n",
    "    psi = psi_flat.reshape((M * d, 1))\n",
    "    return constraint(psi)\n",
    "\n",
    "# Norm constraint: ||psi||^2 - 1 = 0\n",
    "def norm_constraint(psi_flat):\n",
    "    return np.sum(psi_flat**2) - 1\n",
    "\n",
    "# Define constraints list for scipy\n",
    "constraints = [\n",
    "    {'type': 'eq', 'fun': cons_fun},\n",
    "    {'type': 'eq', 'fun': norm_constraint}\n",
    "]\n",
    "def total_psi(psi_flat):\n",
    "    candidate = psi_flat.reshape((M * d, 1))\n",
    "    return f1(candidate, beta) + 2 * beta * np.sum(rho * (constraint(candidate)**2))\n",
    "\n",
    "# Run the minimizer\n",
    "result = minimize(obj_fun, psi0.flatten(), constraints=constraints)\n",
    "# result = minimize(total_psi, psi0.flatten(), constraints=[{'type': 'eq', 'fun': norm_constraint}] )\n",
    "# Reshape the result to (M*d, 1)\n",
    "psi_opt = result.x.reshape((M * d, 1))\n",
    "print(\"Optimal psi:\\n\", psi_opt)\n",
    "print(\"Objective value:\", obj_fun(result.x))\n",
    "print(\"Constraint values:\", cons_fun(result.x))\n",
    "print(\"Norm constraint value:\",1- norm_constraint(result.x))\n",
    "print(\"Total psi value:\", total_psi(result.x)[0,0])"
   ]
  },
  {
   "cell_type": "code",
   "execution_count": 10,
   "id": "44b33c88",
   "metadata": {},
   "outputs": [
    {
     "data": {
      "text/plain": [
       "array([ 0.,  0., -0., -0.])"
      ]
     },
     "execution_count": 10,
     "metadata": {},
     "output_type": "execute_result"
    }
   ],
   "source": [
    "np.set_printoptions(precision=3, suppress=True)\n",
    "cons_fun(result.x)"
   ]
  },
  {
   "cell_type": "code",
   "execution_count": 11,
   "id": "334bed26",
   "metadata": {},
   "outputs": [],
   "source": [
    "selector = np.array([[1,0,0,0,0,0,0,0,0,0,0,0,0,0],\n",
    "                     [0,1,0,0,0,0,0,0,0,0,0,0,0,0],\n",
    "                     [0,0,0,0,1,0,0,0,0,0,0,0,0,0],\n",
    "                     [0,0,0,0,0,1,0,0,0,0,0,0,0,0],\n",
    "                     [0,0,0,0,0,0,0,0,0,0,0,0,1,0],\n",
    "                     [0,0,0,0,0,0,0,0,0,0,0,0,0,1]])\n",
    "h1h2h3 = selector@psi_opt\n",
    "h1 = h1h2h3[0:2]\n",
    "h2 = h1h2h3[2:4]\n",
    "h3 = h1h2h3[4:6]\n",
    "\n",
    "h1h1h1 = np.kron(np.ones((3, 1)), h1)  # Repeat h1 twice\n",
    "h2h2h2 = np.kron(np.ones((3, 1)), h2)  # Repeat h2 twice\n",
    "h3h3h3 = np.kron(np.ones((3, 1)), h3)  # Repeat h3 twice\n",
    "\n",
    "v1v2v3 = selector@eig_vec_Delta[:,5]\n",
    "v1 = v1v2v3[0:2]\n",
    "v2 = v1v2v3[2:4]\n",
    "v3 = v1v2v3[4:6]\n",
    "\n",
    "v1v1v1 = np.kron(np.ones((3, 1)), h1)  # Repeat h1 twice\n",
    "v2v2v2 = np.kron(np.ones((3, 1)), h2)  # Repeat h2 twice\n",
    "v3v3v3 = np.kron(np.ones((3, 1)), h3)  # Repeat h3 twice"
   ]
  },
  {
   "cell_type": "code",
   "execution_count": null,
   "id": "99d3c95f",
   "metadata": {},
   "outputs": [],
   "source": [
    "# power = -1.0\n",
    "# correction = np.repeat(np.array([np.sqrt(2.0)**power, np.sqrt(2.0)**power, np.sqrt(2.0)**power, np.sqrt(2.0)**power, np.sqrt(3.0)**power, np.sqrt(3.0)**power,np.sqrt(3.0)**power]),2)\n",
    "# coeffs = (np.linalg.inv(eig_vec_Delta)@psi_opt)[:,0]\n",
    "# coeffs"
   ]
  },
  {
   "cell_type": "code",
   "execution_count": 12,
   "id": "33339d50",
   "metadata": {},
   "outputs": [
    {
     "name": "stdout",
     "output_type": "stream",
     "text": [
      "[-0.024  0.006 -0.023  0.028 -0.036 -0.703]\n",
      "[ 0. -0.  0. -0.]\n",
      "-0.0006518854296964638\n"
     ]
    }
   ],
   "source": [
    "\n",
    "coeffs =(np.linalg.inv(eig_vec_Gamma)@h1h2h3)[:,0]\n",
    "# coeffs = np.array([-0.01,  0.01,  0.02, -0.02, -0.63,  0.  ])\n",
    "# coeffs = coeffs/np.min(coeffs)\n",
    "new_psi = (eig_vec_Gamma @ coeffs).reshape((-1, 1))\n",
    "new_psi = expand_eigenvector(new_psi).reshape((M * d, 1))\n",
    "print(coeffs)\n",
    "print(constraint(new_psi))\n",
    "print(f1(new_psi, beta).item())                                    "
   ]
  },
  {
   "cell_type": "code",
   "execution_count": null,
   "id": "62a8c828",
   "metadata": {},
   "outputs": [],
   "source": [
    "coeffs =(np.linalg.inv(eig_vec_Delta)@psi_opt)[:,0]\n",
    "np.sum(coeffs@p_to_minus_half(P_K))"
   ]
  },
  {
   "cell_type": "code",
   "execution_count": null,
   "id": "f23c359a",
   "metadata": {},
   "outputs": [],
   "source": [
    "beta = 1e-6\n",
    "while beta < 1e6:\n",
    "    for i in range(3*d):\n",
    "        candidate = expand_eigenvector(eig_vec_Gamma[:,i]).reshape((M * d, 1))\n",
    "        if np.linalg.norm(constraint(candidate)) < 1e-6 and f1(candidate, beta)[0,0] < 0.0:\n",
    "            print(\"constraint :\", constraint(candidate))\n",
    "            print(f\"Eigenvalue:{eig_val_Delta[i]:.2f}\", )\n",
    "            print(f\"f1(candidate):{f1(candidate, beta)[0,0]:2f}\" )\n",
    "            total = f1(candidate, beta) + 2* beta * np.sum(rho*(constraint(candidate)**2))\n",
    "\n",
    "            print(f\"Total{i}: {total[0,0]:.2f}\")\n",
    "    beta *=1.5"
   ]
  },
  {
   "cell_type": "code",
   "execution_count": null,
   "id": "3612c8cd",
   "metadata": {},
   "outputs": [],
   "source": [
    "beta = 1e-6\n",
    "while beta < 1e6:\n",
    "    for i in range(M*d):\n",
    "        candidate = eig_vec_Delta[:,i].reshape((M * d, 1))\n",
    "        if np.linalg.norm(constraint(candidate)) < 1e-6 and f1(candidate, beta)[0,0] < 0.0:\n",
    "            \n",
    "            print(\"constraint :\", constraint(candidate))\n",
    "            print(f\"Eigenvalue:{eig_val_Delta[i]:.2f}\", )\n",
    "            print(f\"f1(candidate):{f1(candidate, beta)[0,0]:2f}\" )\n",
    "            total = f1(candidate, beta) + 2* beta * np.sum(rho*constraint(candidate))\n",
    "            print(f\"Total{i}: {total[0,0]:.2f}\")\n",
    "    beta *=1.5\n",
    "    "
   ]
  },
  {
   "cell_type": "code",
   "execution_count": null,
   "id": "389392a5",
   "metadata": {},
   "outputs": [],
   "source": [
    "pi_j_i"
   ]
  }
 ],
 "metadata": {
  "kernelspec": {
   "display_name": "Python 3 (ipykernel)",
   "language": "python",
   "name": "python3"
  },
  "language_info": {
   "codemirror_mode": {
    "name": "ipython",
    "version": 3
   },
   "file_extension": ".py",
   "mimetype": "text/x-python",
   "name": "python",
   "nbconvert_exporter": "python",
   "pygments_lexer": "ipython3",
   "version": "3.11.7"
  }
 },
 "nbformat": 4,
 "nbformat_minor": 5
}
